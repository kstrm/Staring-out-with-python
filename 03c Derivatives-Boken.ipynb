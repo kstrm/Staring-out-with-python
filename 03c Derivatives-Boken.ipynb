{
 "cells": [
  {
   "cell_type": "markdown",
   "metadata": {},
   "source": [
    "**Note:** to view plots you must either download and run the file locally, or [view it through the nbviewer](http://nbviewer.jupyter.org/github/kstrm/Starting-out-with-python/blob/master/03c%20Derivatives-Boken.ipynb)."
   ]
  },
  {
   "cell_type": "code",
   "execution_count": 6,
   "metadata": {},
   "outputs": [
    {
     "name": "stdout",
     "output_type": "stream",
     "text": [
      "Populating the interactive namespace from numpy and matplotlib\n"
     ]
    },
    {
     "name": "stderr",
     "output_type": "stream",
     "text": [
      "/Users/kstrom/anaconda3/lib/python3.6/site-packages/IPython/core/magics/pylab.py:160: UserWarning: pylab import has clobbered these variables: ['figure', 'show']\n",
      "`%matplotlib` prevents importing * from pylab and numpy\n",
      "  \"\\n`%matplotlib` prevents importing * from pylab and numpy\"\n"
     ]
    },
    {
     "data": {
      "text/html": [
       "\n",
       "    <div class=\"bk-root\">\n",
       "        <a href=\"https://bokeh.pydata.org\" target=\"_blank\" class=\"bk-logo bk-logo-small bk-logo-notebook\"></a>\n",
       "        <span id=\"b50346d4-debf-4298-be42-8dd3eb523991\">Loading BokehJS ...</span>\n",
       "    </div>"
      ]
     },
     "metadata": {},
     "output_type": "display_data"
    },
    {
     "data": {
      "application/javascript": [
       "\n",
       "(function(root) {\n",
       "  function now() {\n",
       "    return new Date();\n",
       "  }\n",
       "\n",
       "  var force = true;\n",
       "\n",
       "  if (typeof (root._bokeh_onload_callbacks) === \"undefined\" || force === true) {\n",
       "    root._bokeh_onload_callbacks = [];\n",
       "    root._bokeh_is_loading = undefined;\n",
       "  }\n",
       "\n",
       "  var JS_MIME_TYPE = 'application/javascript';\n",
       "  var HTML_MIME_TYPE = 'text/html';\n",
       "  var EXEC_MIME_TYPE = 'application/vnd.bokehjs_exec.v0+json';\n",
       "  var CLASS_NAME = 'output_bokeh rendered_html';\n",
       "\n",
       "  /**\n",
       "   * Render data to the DOM node\n",
       "   */\n",
       "  function render(props, node) {\n",
       "    var script = document.createElement(\"script\");\n",
       "    node.appendChild(script);\n",
       "  }\n",
       "\n",
       "  /**\n",
       "   * Handle when an output is cleared or removed\n",
       "   */\n",
       "  function handleClearOutput(event, handle) {\n",
       "    var cell = handle.cell;\n",
       "\n",
       "    var id = cell.output_area._bokeh_element_id;\n",
       "    var server_id = cell.output_area._bokeh_server_id;\n",
       "    // Clean up Bokeh references\n",
       "    if (id !== undefined) {\n",
       "      Bokeh.index[id].model.document.clear();\n",
       "      delete Bokeh.index[id];\n",
       "    }\n",
       "\n",
       "    if (server_id !== undefined) {\n",
       "      // Clean up Bokeh references\n",
       "      var cmd = \"from bokeh.io.state import curstate; print(curstate().uuid_to_server['\" + server_id + \"'].get_sessions()[0].document.roots[0]._id)\";\n",
       "      cell.notebook.kernel.execute(cmd, {\n",
       "        iopub: {\n",
       "          output: function(msg) {\n",
       "            var element_id = msg.content.text.trim();\n",
       "            Bokeh.index[element_id].model.document.clear();\n",
       "            delete Bokeh.index[element_id];\n",
       "          }\n",
       "        }\n",
       "      });\n",
       "      // Destroy server and session\n",
       "      var cmd = \"import bokeh.io.notebook as ion; ion.destroy_server('\" + server_id + \"')\";\n",
       "      cell.notebook.kernel.execute(cmd);\n",
       "    }\n",
       "  }\n",
       "\n",
       "  /**\n",
       "   * Handle when a new output is added\n",
       "   */\n",
       "  function handleAddOutput(event, handle) {\n",
       "    var output_area = handle.output_area;\n",
       "    var output = handle.output;\n",
       "\n",
       "    // limit handleAddOutput to display_data with EXEC_MIME_TYPE content only\n",
       "    if ((output.output_type != \"display_data\") || (!output.data.hasOwnProperty(EXEC_MIME_TYPE))) {\n",
       "      return\n",
       "    }\n",
       "\n",
       "    var toinsert = output_area.element.find(\".\" + CLASS_NAME.split(' ')[0]);\n",
       "\n",
       "    if (output.metadata[EXEC_MIME_TYPE][\"id\"] !== undefined) {\n",
       "      toinsert[toinsert.length - 1].firstChild.textContent = output.data[JS_MIME_TYPE];\n",
       "      // store reference to embed id on output_area\n",
       "      output_area._bokeh_element_id = output.metadata[EXEC_MIME_TYPE][\"id\"];\n",
       "    }\n",
       "    if (output.metadata[EXEC_MIME_TYPE][\"server_id\"] !== undefined) {\n",
       "      var bk_div = document.createElement(\"div\");\n",
       "      bk_div.innerHTML = output.data[HTML_MIME_TYPE];\n",
       "      var script_attrs = bk_div.children[0].attributes;\n",
       "      for (var i = 0; i < script_attrs.length; i++) {\n",
       "        toinsert[toinsert.length - 1].firstChild.setAttribute(script_attrs[i].name, script_attrs[i].value);\n",
       "      }\n",
       "      // store reference to server id on output_area\n",
       "      output_area._bokeh_server_id = output.metadata[EXEC_MIME_TYPE][\"server_id\"];\n",
       "    }\n",
       "  }\n",
       "\n",
       "  function register_renderer(events, OutputArea) {\n",
       "\n",
       "    function append_mime(data, metadata, element) {\n",
       "      // create a DOM node to render to\n",
       "      var toinsert = this.create_output_subarea(\n",
       "        metadata,\n",
       "        CLASS_NAME,\n",
       "        EXEC_MIME_TYPE\n",
       "      );\n",
       "      this.keyboard_manager.register_events(toinsert);\n",
       "      // Render to node\n",
       "      var props = {data: data, metadata: metadata[EXEC_MIME_TYPE]};\n",
       "      render(props, toinsert[toinsert.length - 1]);\n",
       "      element.append(toinsert);\n",
       "      return toinsert\n",
       "    }\n",
       "\n",
       "    /* Handle when an output is cleared or removed */\n",
       "    events.on('clear_output.CodeCell', handleClearOutput);\n",
       "    events.on('delete.Cell', handleClearOutput);\n",
       "\n",
       "    /* Handle when a new output is added */\n",
       "    events.on('output_added.OutputArea', handleAddOutput);\n",
       "\n",
       "    /**\n",
       "     * Register the mime type and append_mime function with output_area\n",
       "     */\n",
       "    OutputArea.prototype.register_mime_type(EXEC_MIME_TYPE, append_mime, {\n",
       "      /* Is output safe? */\n",
       "      safe: true,\n",
       "      /* Index of renderer in `output_area.display_order` */\n",
       "      index: 0\n",
       "    });\n",
       "  }\n",
       "\n",
       "  // register the mime type if in Jupyter Notebook environment and previously unregistered\n",
       "  if (root.Jupyter !== undefined) {\n",
       "    var events = require('base/js/events');\n",
       "    var OutputArea = require('notebook/js/outputarea').OutputArea;\n",
       "\n",
       "    if (OutputArea.prototype.mime_types().indexOf(EXEC_MIME_TYPE) == -1) {\n",
       "      register_renderer(events, OutputArea);\n",
       "    }\n",
       "  }\n",
       "\n",
       "  \n",
       "  if (typeof (root._bokeh_timeout) === \"undefined\" || force === true) {\n",
       "    root._bokeh_timeout = Date.now() + 5000;\n",
       "    root._bokeh_failed_load = false;\n",
       "  }\n",
       "\n",
       "  var NB_LOAD_WARNING = {'data': {'text/html':\n",
       "     \"<div style='background-color: #fdd'>\\n\"+\n",
       "     \"<p>\\n\"+\n",
       "     \"BokehJS does not appear to have successfully loaded. If loading BokehJS from CDN, this \\n\"+\n",
       "     \"may be due to a slow or bad network connection. Possible fixes:\\n\"+\n",
       "     \"</p>\\n\"+\n",
       "     \"<ul>\\n\"+\n",
       "     \"<li>re-rerun `output_notebook()` to attempt to load from CDN again, or</li>\\n\"+\n",
       "     \"<li>use INLINE resources instead, as so:</li>\\n\"+\n",
       "     \"</ul>\\n\"+\n",
       "     \"<code>\\n\"+\n",
       "     \"from bokeh.resources import INLINE\\n\"+\n",
       "     \"output_notebook(resources=INLINE)\\n\"+\n",
       "     \"</code>\\n\"+\n",
       "     \"</div>\"}};\n",
       "\n",
       "  function display_loaded() {\n",
       "    var el = document.getElementById(\"b50346d4-debf-4298-be42-8dd3eb523991\");\n",
       "    if (el != null) {\n",
       "      el.textContent = \"BokehJS is loading...\";\n",
       "    }\n",
       "    if (root.Bokeh !== undefined) {\n",
       "      if (el != null) {\n",
       "        el.textContent = \"BokehJS \" + root.Bokeh.version + \" successfully loaded.\";\n",
       "      }\n",
       "    } else if (Date.now() < root._bokeh_timeout) {\n",
       "      setTimeout(display_loaded, 100)\n",
       "    }\n",
       "  }\n",
       "\n",
       "\n",
       "  function run_callbacks() {\n",
       "    try {\n",
       "      root._bokeh_onload_callbacks.forEach(function(callback) { callback() });\n",
       "    }\n",
       "    finally {\n",
       "      delete root._bokeh_onload_callbacks\n",
       "    }\n",
       "    console.info(\"Bokeh: all callbacks have finished\");\n",
       "  }\n",
       "\n",
       "  function load_libs(js_urls, callback) {\n",
       "    root._bokeh_onload_callbacks.push(callback);\n",
       "    if (root._bokeh_is_loading > 0) {\n",
       "      console.log(\"Bokeh: BokehJS is being loaded, scheduling callback at\", now());\n",
       "      return null;\n",
       "    }\n",
       "    if (js_urls == null || js_urls.length === 0) {\n",
       "      run_callbacks();\n",
       "      return null;\n",
       "    }\n",
       "    console.log(\"Bokeh: BokehJS not loaded, scheduling load and callback at\", now());\n",
       "    root._bokeh_is_loading = js_urls.length;\n",
       "    for (var i = 0; i < js_urls.length; i++) {\n",
       "      var url = js_urls[i];\n",
       "      var s = document.createElement('script');\n",
       "      s.src = url;\n",
       "      s.async = false;\n",
       "      s.onreadystatechange = s.onload = function() {\n",
       "        root._bokeh_is_loading--;\n",
       "        if (root._bokeh_is_loading === 0) {\n",
       "          console.log(\"Bokeh: all BokehJS libraries loaded\");\n",
       "          run_callbacks()\n",
       "        }\n",
       "      };\n",
       "      s.onerror = function() {\n",
       "        console.warn(\"failed to load library \" + url);\n",
       "      };\n",
       "      console.log(\"Bokeh: injecting script tag for BokehJS library: \", url);\n",
       "      document.getElementsByTagName(\"head\")[0].appendChild(s);\n",
       "    }\n",
       "  };var element = document.getElementById(\"b50346d4-debf-4298-be42-8dd3eb523991\");\n",
       "  if (element == null) {\n",
       "    console.log(\"Bokeh: ERROR: autoload.js configured with elementid 'b50346d4-debf-4298-be42-8dd3eb523991' but no matching script tag was found. \")\n",
       "    return false;\n",
       "  }\n",
       "\n",
       "  var js_urls = [\"https://cdn.pydata.org/bokeh/release/bokeh-0.12.16.min.js\", \"https://cdn.pydata.org/bokeh/release/bokeh-widgets-0.12.16.min.js\", \"https://cdn.pydata.org/bokeh/release/bokeh-tables-0.12.16.min.js\", \"https://cdn.pydata.org/bokeh/release/bokeh-gl-0.12.16.min.js\"];\n",
       "\n",
       "  var inline_js = [\n",
       "    function(Bokeh) {\n",
       "      Bokeh.set_log_level(\"info\");\n",
       "    },\n",
       "    \n",
       "    function(Bokeh) {\n",
       "      \n",
       "    },\n",
       "    function(Bokeh) {\n",
       "      console.log(\"Bokeh: injecting CSS: https://cdn.pydata.org/bokeh/release/bokeh-0.12.16.min.css\");\n",
       "      Bokeh.embed.inject_css(\"https://cdn.pydata.org/bokeh/release/bokeh-0.12.16.min.css\");\n",
       "      console.log(\"Bokeh: injecting CSS: https://cdn.pydata.org/bokeh/release/bokeh-widgets-0.12.16.min.css\");\n",
       "      Bokeh.embed.inject_css(\"https://cdn.pydata.org/bokeh/release/bokeh-widgets-0.12.16.min.css\");\n",
       "      console.log(\"Bokeh: injecting CSS: https://cdn.pydata.org/bokeh/release/bokeh-tables-0.12.16.min.css\");\n",
       "      Bokeh.embed.inject_css(\"https://cdn.pydata.org/bokeh/release/bokeh-tables-0.12.16.min.css\");\n",
       "    }\n",
       "  ];\n",
       "\n",
       "  function run_inline_js() {\n",
       "    \n",
       "    if ((root.Bokeh !== undefined) || (force === true)) {\n",
       "      for (var i = 0; i < inline_js.length; i++) {\n",
       "        inline_js[i].call(root, root.Bokeh);\n",
       "      }if (force === true) {\n",
       "        display_loaded();\n",
       "      }} else if (Date.now() < root._bokeh_timeout) {\n",
       "      setTimeout(run_inline_js, 100);\n",
       "    } else if (!root._bokeh_failed_load) {\n",
       "      console.log(\"Bokeh: BokehJS failed to load within specified timeout.\");\n",
       "      root._bokeh_failed_load = true;\n",
       "    } else if (force !== true) {\n",
       "      var cell = $(document.getElementById(\"b50346d4-debf-4298-be42-8dd3eb523991\")).parents('.cell').data().cell;\n",
       "      cell.output_area.append_execute_result(NB_LOAD_WARNING)\n",
       "    }\n",
       "\n",
       "  }\n",
       "\n",
       "  if (root._bokeh_is_loading === 0) {\n",
       "    console.log(\"Bokeh: BokehJS loaded, going straight to plotting\");\n",
       "    run_inline_js();\n",
       "  } else {\n",
       "    load_libs(js_urls, function() {\n",
       "      console.log(\"Bokeh: BokehJS plotting callback run at\", now());\n",
       "      run_inline_js();\n",
       "    });\n",
       "  }\n",
       "}(window));"
      ],
      "application/vnd.bokehjs_load.v0+json": "\n(function(root) {\n  function now() {\n    return new Date();\n  }\n\n  var force = true;\n\n  if (typeof (root._bokeh_onload_callbacks) === \"undefined\" || force === true) {\n    root._bokeh_onload_callbacks = [];\n    root._bokeh_is_loading = undefined;\n  }\n\n  \n\n  \n  if (typeof (root._bokeh_timeout) === \"undefined\" || force === true) {\n    root._bokeh_timeout = Date.now() + 5000;\n    root._bokeh_failed_load = false;\n  }\n\n  var NB_LOAD_WARNING = {'data': {'text/html':\n     \"<div style='background-color: #fdd'>\\n\"+\n     \"<p>\\n\"+\n     \"BokehJS does not appear to have successfully loaded. If loading BokehJS from CDN, this \\n\"+\n     \"may be due to a slow or bad network connection. Possible fixes:\\n\"+\n     \"</p>\\n\"+\n     \"<ul>\\n\"+\n     \"<li>re-rerun `output_notebook()` to attempt to load from CDN again, or</li>\\n\"+\n     \"<li>use INLINE resources instead, as so:</li>\\n\"+\n     \"</ul>\\n\"+\n     \"<code>\\n\"+\n     \"from bokeh.resources import INLINE\\n\"+\n     \"output_notebook(resources=INLINE)\\n\"+\n     \"</code>\\n\"+\n     \"</div>\"}};\n\n  function display_loaded() {\n    var el = document.getElementById(\"b50346d4-debf-4298-be42-8dd3eb523991\");\n    if (el != null) {\n      el.textContent = \"BokehJS is loading...\";\n    }\n    if (root.Bokeh !== undefined) {\n      if (el != null) {\n        el.textContent = \"BokehJS \" + root.Bokeh.version + \" successfully loaded.\";\n      }\n    } else if (Date.now() < root._bokeh_timeout) {\n      setTimeout(display_loaded, 100)\n    }\n  }\n\n\n  function run_callbacks() {\n    try {\n      root._bokeh_onload_callbacks.forEach(function(callback) { callback() });\n    }\n    finally {\n      delete root._bokeh_onload_callbacks\n    }\n    console.info(\"Bokeh: all callbacks have finished\");\n  }\n\n  function load_libs(js_urls, callback) {\n    root._bokeh_onload_callbacks.push(callback);\n    if (root._bokeh_is_loading > 0) {\n      console.log(\"Bokeh: BokehJS is being loaded, scheduling callback at\", now());\n      return null;\n    }\n    if (js_urls == null || js_urls.length === 0) {\n      run_callbacks();\n      return null;\n    }\n    console.log(\"Bokeh: BokehJS not loaded, scheduling load and callback at\", now());\n    root._bokeh_is_loading = js_urls.length;\n    for (var i = 0; i < js_urls.length; i++) {\n      var url = js_urls[i];\n      var s = document.createElement('script');\n      s.src = url;\n      s.async = false;\n      s.onreadystatechange = s.onload = function() {\n        root._bokeh_is_loading--;\n        if (root._bokeh_is_loading === 0) {\n          console.log(\"Bokeh: all BokehJS libraries loaded\");\n          run_callbacks()\n        }\n      };\n      s.onerror = function() {\n        console.warn(\"failed to load library \" + url);\n      };\n      console.log(\"Bokeh: injecting script tag for BokehJS library: \", url);\n      document.getElementsByTagName(\"head\")[0].appendChild(s);\n    }\n  };var element = document.getElementById(\"b50346d4-debf-4298-be42-8dd3eb523991\");\n  if (element == null) {\n    console.log(\"Bokeh: ERROR: autoload.js configured with elementid 'b50346d4-debf-4298-be42-8dd3eb523991' but no matching script tag was found. \")\n    return false;\n  }\n\n  var js_urls = [\"https://cdn.pydata.org/bokeh/release/bokeh-0.12.16.min.js\", \"https://cdn.pydata.org/bokeh/release/bokeh-widgets-0.12.16.min.js\", \"https://cdn.pydata.org/bokeh/release/bokeh-tables-0.12.16.min.js\", \"https://cdn.pydata.org/bokeh/release/bokeh-gl-0.12.16.min.js\"];\n\n  var inline_js = [\n    function(Bokeh) {\n      Bokeh.set_log_level(\"info\");\n    },\n    \n    function(Bokeh) {\n      \n    },\n    function(Bokeh) {\n      console.log(\"Bokeh: injecting CSS: https://cdn.pydata.org/bokeh/release/bokeh-0.12.16.min.css\");\n      Bokeh.embed.inject_css(\"https://cdn.pydata.org/bokeh/release/bokeh-0.12.16.min.css\");\n      console.log(\"Bokeh: injecting CSS: https://cdn.pydata.org/bokeh/release/bokeh-widgets-0.12.16.min.css\");\n      Bokeh.embed.inject_css(\"https://cdn.pydata.org/bokeh/release/bokeh-widgets-0.12.16.min.css\");\n      console.log(\"Bokeh: injecting CSS: https://cdn.pydata.org/bokeh/release/bokeh-tables-0.12.16.min.css\");\n      Bokeh.embed.inject_css(\"https://cdn.pydata.org/bokeh/release/bokeh-tables-0.12.16.min.css\");\n    }\n  ];\n\n  function run_inline_js() {\n    \n    if ((root.Bokeh !== undefined) || (force === true)) {\n      for (var i = 0; i < inline_js.length; i++) {\n        inline_js[i].call(root, root.Bokeh);\n      }if (force === true) {\n        display_loaded();\n      }} else if (Date.now() < root._bokeh_timeout) {\n      setTimeout(run_inline_js, 100);\n    } else if (!root._bokeh_failed_load) {\n      console.log(\"Bokeh: BokehJS failed to load within specified timeout.\");\n      root._bokeh_failed_load = true;\n    } else if (force !== true) {\n      var cell = $(document.getElementById(\"b50346d4-debf-4298-be42-8dd3eb523991\")).parents('.cell').data().cell;\n      cell.output_area.append_execute_result(NB_LOAD_WARNING)\n    }\n\n  }\n\n  if (root._bokeh_is_loading === 0) {\n    console.log(\"Bokeh: BokehJS loaded, going straight to plotting\");\n    run_inline_js();\n  } else {\n    load_libs(js_urls, function() {\n      console.log(\"Bokeh: BokehJS plotting callback run at\", now());\n      run_inline_js();\n    });\n  }\n}(window));"
     },
     "metadata": {},
     "output_type": "display_data"
    }
   ],
   "source": [
    "%pylab inline\n",
    "from bokeh.io import output_notebook, show\n",
    "from bokeh.plotting import figure\n",
    "output_notebook()\n",
    "#TOOLS = 'pan, box_zoom,box_select,crosshair,resize,reset,hover, wheel_zoom, tap'\n",
    "TOOLS = 'pan, box_zoom,box_select,resize,reset,hover, wheel_zoom'"
   ]
  },
  {
   "cell_type": "code",
   "execution_count": 7,
   "metadata": {},
   "outputs": [],
   "source": [
    "N = 100\n",
    "ilast = N-1\n",
    "x = linspace(0,6*pi,N)\n",
    "y = sin(x)"
   ]
  },
  {
   "cell_type": "code",
   "execution_count": 8,
   "metadata": {},
   "outputs": [
    {
     "data": {
      "text/html": [
       "\n",
       "<div class=\"bk-root\">\n",
       "    <div class=\"bk-plotdiv\" id=\"c2519efc-609b-4428-aaf6-0751f99672ca\"></div>\n",
       "</div>"
      ]
     },
     "metadata": {},
     "output_type": "display_data"
    },
    {
     "data": {
      "application/javascript": [
       "(function(root) {\n",
       "  function embed_document(root) {\n",
       "    \n",
       "  var docs_json = {\"10963451-a386-45e6-94ad-daafcf317ea1\":{\"roots\":{\"references\":[{\"attributes\":{},\"id\":\"0e007bde-5026-456d-867b-16deefd4be2b\",\"type\":\"BasicTicker\"},{\"attributes\":{\"source\":{\"id\":\"200678de-6230-4efb-aa4c-716c58d4e921\",\"type\":\"ColumnDataSource\"}},\"id\":\"1a5833ff-3159-4cd1-a58f-74f979a7acaf\",\"type\":\"CDSView\"},{\"attributes\":{\"data_source\":{\"id\":\"200678de-6230-4efb-aa4c-716c58d4e921\",\"type\":\"ColumnDataSource\"},\"glyph\":{\"id\":\"1b9d08f2-309b-4c69-ab17-8d0438432ef9\",\"type\":\"Circle\"},\"hover_glyph\":null,\"muted_glyph\":null,\"nonselection_glyph\":{\"id\":\"b7924d54-4d6d-4a3e-8180-1c21f7187594\",\"type\":\"Circle\"},\"selection_glyph\":null,\"view\":{\"id\":\"1a5833ff-3159-4cd1-a58f-74f979a7acaf\",\"type\":\"CDSView\"}},\"id\":\"d13cabf5-05fc-465f-b2c2-980627657679\",\"type\":\"GlyphRenderer\"},{\"attributes\":{},\"id\":\"63b852f2-16ec-4a88-b186-d4d92e7db6f1\",\"type\":\"BasicTickFormatter\"},{\"attributes\":{},\"id\":\"ca996927-cf10-4f5f-a310-e59d9675b95a\",\"type\":\"BasicTickFormatter\"},{\"attributes\":{},\"id\":\"2b9434ee-0d70-47ad-be20-df0610b1400a\",\"type\":\"UnionRenderers\"},{\"attributes\":{},\"id\":\"f8fd5c6b-a825-4dc2-b05f-2b9dc9d7723f\",\"type\":\"Selection\"},{\"attributes\":{\"overlay\":{\"id\":\"6aaebd3c-c37c-4fe0-b410-bbcb96f81e72\",\"type\":\"BoxAnnotation\"}},\"id\":\"69a8c388-4c23-41f3-b041-6007233f68a3\",\"type\":\"BoxZoomTool\"},{\"attributes\":{},\"id\":\"0842489f-86f5-42cf-afe7-d1c71d6166f4\",\"type\":\"UnionRenderers\"},{\"attributes\":{},\"id\":\"4d61cf6b-cdfb-413c-a2d5-baf2ebad433f\",\"type\":\"Selection\"},{\"attributes\":{},\"id\":\"7d264a4d-fe6b-4609-ae58-61f582c2e391\",\"type\":\"SaveTool\"},{\"attributes\":{\"active_drag\":\"auto\",\"active_inspect\":\"auto\",\"active_scroll\":\"auto\",\"active_tap\":\"auto\",\"tools\":[{\"id\":\"cb9e7099-3f93-48ef-af48-b1ce8a81e913\",\"type\":\"PanTool\"},{\"id\":\"fd677936-afb7-4fc3-b528-c1fd3b5a78ba\",\"type\":\"WheelZoomTool\"},{\"id\":\"69a8c388-4c23-41f3-b041-6007233f68a3\",\"type\":\"BoxZoomTool\"},{\"id\":\"7d264a4d-fe6b-4609-ae58-61f582c2e391\",\"type\":\"SaveTool\"},{\"id\":\"a157dc52-027f-4d69-85b7-81a6e12efb51\",\"type\":\"ResetTool\"},{\"id\":\"2a79ce8a-07f7-4132-b69d-0606cdc4a75c\",\"type\":\"HelpTool\"}]},\"id\":\"c650409a-b2ad-49da-b785-3a0aa9b58b74\",\"type\":\"Toolbar\"},{\"attributes\":{},\"id\":\"743841c9-0229-4849-aab8-ad23ae182a51\",\"type\":\"LinearScale\"},{\"attributes\":{\"formatter\":{\"id\":\"ca996927-cf10-4f5f-a310-e59d9675b95a\",\"type\":\"BasicTickFormatter\"},\"plot\":{\"id\":\"7b1b5b01-9604-4b7f-9577-5f58db4ddbb6\",\"subtype\":\"Figure\",\"type\":\"Plot\"},\"ticker\":{\"id\":\"0e007bde-5026-456d-867b-16deefd4be2b\",\"type\":\"BasicTicker\"}},\"id\":\"aadf5c9a-e963-43ad-85c5-fbab91b10a39\",\"type\":\"LinearAxis\"},{\"attributes\":{\"fill_alpha\":{\"value\":0.1},\"fill_color\":{\"value\":\"#1f77b4\"},\"line_alpha\":{\"value\":0.1},\"line_color\":{\"value\":\"#1f77b4\"},\"size\":{\"units\":\"screen\",\"value\":8},\"x\":{\"field\":\"x\"},\"y\":{\"field\":\"y\"}},\"id\":\"b7924d54-4d6d-4a3e-8180-1c21f7187594\",\"type\":\"Circle\"},{\"attributes\":{\"bottom_units\":\"screen\",\"fill_alpha\":{\"value\":0.5},\"fill_color\":{\"value\":\"lightgrey\"},\"left_units\":\"screen\",\"level\":\"overlay\",\"line_alpha\":{\"value\":1.0},\"line_color\":{\"value\":\"black\"},\"line_dash\":[4,4],\"line_width\":{\"value\":2},\"plot\":null,\"render_mode\":\"css\",\"right_units\":\"screen\",\"top_units\":\"screen\"},\"id\":\"6aaebd3c-c37c-4fe0-b410-bbcb96f81e72\",\"type\":\"BoxAnnotation\"},{\"attributes\":{\"formatter\":{\"id\":\"63b852f2-16ec-4a88-b186-d4d92e7db6f1\",\"type\":\"BasicTickFormatter\"},\"plot\":{\"id\":\"7b1b5b01-9604-4b7f-9577-5f58db4ddbb6\",\"subtype\":\"Figure\",\"type\":\"Plot\"},\"ticker\":{\"id\":\"75cfcb54-a6eb-4d95-938c-d668519e293c\",\"type\":\"BasicTicker\"}},\"id\":\"1aa0290a-56fe-4b38-af57-b41f72d19a0f\",\"type\":\"LinearAxis\"},{\"attributes\":{\"fill_color\":{\"value\":\"white\"},\"line_color\":{\"value\":\"#1f77b4\"},\"size\":{\"units\":\"screen\",\"value\":8},\"x\":{\"field\":\"x\"},\"y\":{\"field\":\"y\"}},\"id\":\"1b9d08f2-309b-4c69-ab17-8d0438432ef9\",\"type\":\"Circle\"},{\"attributes\":{},\"id\":\"75cfcb54-a6eb-4d95-938c-d668519e293c\",\"type\":\"BasicTicker\"},{\"attributes\":{\"plot\":{\"id\":\"7b1b5b01-9604-4b7f-9577-5f58db4ddbb6\",\"subtype\":\"Figure\",\"type\":\"Plot\"},\"ticker\":{\"id\":\"75cfcb54-a6eb-4d95-938c-d668519e293c\",\"type\":\"BasicTicker\"}},\"id\":\"43386439-8205-4c5e-8e52-5d2eb1b71432\",\"type\":\"Grid\"},{\"attributes\":{},\"id\":\"fddce0f2-7137-4766-bff3-a79e37af0b39\",\"type\":\"LinearScale\"},{\"attributes\":{\"callback\":null},\"id\":\"493e27ad-1f3f-45b9-bd2c-109b803c613d\",\"type\":\"DataRange1d\"},{\"attributes\":{\"line_color\":\"#1f77b4\",\"line_width\":2,\"x\":{\"field\":\"x\"},\"y\":{\"field\":\"y\"}},\"id\":\"9c26b1c9-fad8-4f7d-8485-99a78bc53f2b\",\"type\":\"Line\"},{\"attributes\":{\"callback\":null,\"data\":{\"x\":{\"__ndarray__\":\"AAAAAAAAAADZp3A6A1/IP9mncDoDX9g/433Ua0JH4j/Zp3A6A1/oP8/RDAnEdu4/433Ua0JH8j/ekiLTIlP1P9mncDoDX/g/1Ly+oeNq+z/P0QwJxHb+P2VzLThSwQBA433Ua0JHAkBgiHufMs0DQN6SItMiUwVAW53JBhPZBkDZp3A6A18IQFeyF27z5AlA1Ly+oeNqC0BSx2XV0/AMQM/RDAnEdg5ATdyzPLT8D0Blcy04UsEQQKT4AFJKhBFA433Ua0JHEkAiA6iFOgoTQGCIe58yzRNAnw1PuSqQFEDekiLTIlMVQB0Y9uwaFhZAW53JBhPZFkCaIp0gC5wXQNmncDoDXxhAGC1EVPshGUBXshdu8+QZQJU364frpxpA1Ly+oeNqG0ATQpK72y0cQFLHZdXT8BxAkEw578uzHUDP0QwJxHYeQA5X4CK8OR9ATdyzPLT8H0DGsEMr1l8gQGVzLThSwSBABTYXRc4iIUCk+ABSSoQhQEO76l7G5SFA433Ua0JHIkCCQL54vqgiQCIDqIU6CiNAwcWRkrZrI0BgiHufMs0jQABLZayuLiRAnw1PuSqQJEA+0DjGpvEkQN6SItMiUyVAfVUM4J60JUAdGPbsGhYmQLza3/mWdyZAW53JBhPZJkD7X7MTjzonQJoinSALnCdAOuWGLYf9J0DZp3A6A18oQHhqWkd/wChAGC1EVPshKUC37y1hd4MpQFeyF27z5ClA9nQBe29GKkCVN+uH66cqQDX61JRnCStA1Ly+oeNqK0B0f6iuX8wrQBNCkrvbLSxAsgR8yFePLEBSx2XV0/AsQPGJT+JPUi1AkEw578uzLUAwDyP8RxUuQM/RDAnEdi5Ab5T2FUDYLkAOV+AivDkvQK0Zyi84my9ATdyzPLT8L0B2z84kGC8wQMawQyvWXzBAFZK4MZSQMEBlcy04UsEwQLVUoj4Q8jBABTYXRc4iMUBUF4xLjFMxQKT4AFJKhDFA9Nl1WAi1MUBDu+pexuUxQJOcX2WEFjJA433Ua0JHMkAyX0lyAHgyQIJAvni+qDJA0iEzf3zZMkA=\",\"dtype\":\"float64\",\"shape\":[100]},\"y\":{\"__ndarray__\":\"AAAAAAAAAACQrKCAYjnIP/qTDVNRydc/C1i7+O1M4T//Fz+UIBXmP5VBRZYBEeo/EyzujrQb7T/fXvqSFBnvP4OsWqO49u8/8EI4BJ6s7z/GU2Jbcj3uP6xMWOh6tus/oig6uxkv6D/0eLFa9cfjP/KoPlWVU90/xo12/ecH0j/8U0fFl1W4P+pTR8WXVbi/u412/ecH0r/uqD5VlVPdv/B4sVr1x+O/oCg6uxkv6L+oTFjoerbrv8RTYltyPe6/70I4BJ6s77+DrFqjuPbvv+Fe+pIUGe+/FSzujrQb7b+YQUWWARHqvwAYP5QgFea/EVi7+O1M4b8ElA1TUcnXv6CsoIBiOci/B1wUMyamsbyOrKCAYjnIP+6TDVNRydc/B1i7+O1M4T/9Fz+UIBXmP5RBRZYBEeo/ECzujrQb7T/eXvqSFBnvP4OsWqO49u8/8EI4BJ6s7z/GU2Jbcj3uP69MWOh6tus/oCg6uxkv6D/2eLFa9cfjPwSpPlWVU90/w412/ecH0j8tVEfFl1W4P/lTR8WXVbi/to12/ecH0r/cqD5VlVPdv/F4sVr1x+O/nCg6uxkv6L+jTFjoerbrv8RTYltyPe6/7kI4BJ6s77+DrFqjuPbvv+Fe+pIUGe+/GSzujrQb7b+YQUWWARHqvwcYP5QgFea/DFi7+O1M4b8IlA1TUcnXv8isoIBiOci/B1wUMyamwbxmrKCAYjnIP/iTDVNRydc/BVi7+O1M4T/2Fz+UIBXmP5NBRZYBEeo/DyzujrQb7T/fXvqSFBnvP4OsWqO49u8/8UI4BJ6s7z/HU2Jbcj3uP7BMWOh6tus/rCg6uxkv6D/4eLFa9cfjPwipPlWVU90/x412/ecH0j8/VEfFl1W4P2hTR8WXVbi/so12/ecH0r/YqD5VlVPdv+94sVr1x+O/kCg6uxkv6L+iTFjoerbrv8NTYltyPe6/8EI4BJ6s77+ErFqjuPbvv+Je+pIUGe+/FCzujrQb7b+jQUWWARHqvwkYP5QgFea/D1i7+O1M4b8qlA1TUcnXv9CsoIBiOci/CoqeTDl5yrw=\",\"dtype\":\"float64\",\"shape\":[100]}},\"selected\":{\"id\":\"4d61cf6b-cdfb-413c-a2d5-baf2ebad433f\",\"type\":\"Selection\"},\"selection_policy\":{\"id\":\"0842489f-86f5-42cf-afe7-d1c71d6166f4\",\"type\":\"UnionRenderers\"}},\"id\":\"200678de-6230-4efb-aa4c-716c58d4e921\",\"type\":\"ColumnDataSource\"},{\"attributes\":{\"below\":[{\"id\":\"1aa0290a-56fe-4b38-af57-b41f72d19a0f\",\"type\":\"LinearAxis\"}],\"left\":[{\"id\":\"aadf5c9a-e963-43ad-85c5-fbab91b10a39\",\"type\":\"LinearAxis\"}],\"plot_height\":400,\"plot_width\":800,\"renderers\":[{\"id\":\"1aa0290a-56fe-4b38-af57-b41f72d19a0f\",\"type\":\"LinearAxis\"},{\"id\":\"43386439-8205-4c5e-8e52-5d2eb1b71432\",\"type\":\"Grid\"},{\"id\":\"aadf5c9a-e963-43ad-85c5-fbab91b10a39\",\"type\":\"LinearAxis\"},{\"id\":\"8e9f47fd-b6db-488e-93af-537afb864d03\",\"type\":\"Grid\"},{\"id\":\"6aaebd3c-c37c-4fe0-b410-bbcb96f81e72\",\"type\":\"BoxAnnotation\"},{\"id\":\"bc740e3e-deb6-493d-bd1e-b4c81405e324\",\"type\":\"GlyphRenderer\"},{\"id\":\"d13cabf5-05fc-465f-b2c2-980627657679\",\"type\":\"GlyphRenderer\"}],\"title\":null,\"toolbar\":{\"id\":\"c650409a-b2ad-49da-b785-3a0aa9b58b74\",\"type\":\"Toolbar\"},\"x_range\":{\"id\":\"a8703651-33a3-4afe-b203-8c052f2ea983\",\"type\":\"DataRange1d\"},\"x_scale\":{\"id\":\"fddce0f2-7137-4766-bff3-a79e37af0b39\",\"type\":\"LinearScale\"},\"y_range\":{\"id\":\"493e27ad-1f3f-45b9-bd2c-109b803c613d\",\"type\":\"DataRange1d\"},\"y_scale\":{\"id\":\"743841c9-0229-4849-aab8-ad23ae182a51\",\"type\":\"LinearScale\"}},\"id\":\"7b1b5b01-9604-4b7f-9577-5f58db4ddbb6\",\"subtype\":\"Figure\",\"type\":\"Plot\"},{\"attributes\":{\"data_source\":{\"id\":\"1f2ab8b7-eff9-4d6f-8f59-b04b37f7efd0\",\"type\":\"ColumnDataSource\"},\"glyph\":{\"id\":\"9c26b1c9-fad8-4f7d-8485-99a78bc53f2b\",\"type\":\"Line\"},\"hover_glyph\":null,\"muted_glyph\":null,\"nonselection_glyph\":{\"id\":\"f63a1188-697c-47e9-909c-817efba3a231\",\"type\":\"Line\"},\"selection_glyph\":null,\"view\":{\"id\":\"4c5c94a6-6355-4ffd-aaf3-c4eb675fb4c5\",\"type\":\"CDSView\"}},\"id\":\"bc740e3e-deb6-493d-bd1e-b4c81405e324\",\"type\":\"GlyphRenderer\"},{\"attributes\":{\"callback\":null,\"data\":{\"x\":{\"__ndarray__\":\"AAAAAAAAAADZp3A6A1/IP9mncDoDX9g/433Ua0JH4j/Zp3A6A1/oP8/RDAnEdu4/433Ua0JH8j/ekiLTIlP1P9mncDoDX/g/1Ly+oeNq+z/P0QwJxHb+P2VzLThSwQBA433Ua0JHAkBgiHufMs0DQN6SItMiUwVAW53JBhPZBkDZp3A6A18IQFeyF27z5AlA1Ly+oeNqC0BSx2XV0/AMQM/RDAnEdg5ATdyzPLT8D0Blcy04UsEQQKT4AFJKhBFA433Ua0JHEkAiA6iFOgoTQGCIe58yzRNAnw1PuSqQFEDekiLTIlMVQB0Y9uwaFhZAW53JBhPZFkCaIp0gC5wXQNmncDoDXxhAGC1EVPshGUBXshdu8+QZQJU364frpxpA1Ly+oeNqG0ATQpK72y0cQFLHZdXT8BxAkEw578uzHUDP0QwJxHYeQA5X4CK8OR9ATdyzPLT8H0DGsEMr1l8gQGVzLThSwSBABTYXRc4iIUCk+ABSSoQhQEO76l7G5SFA433Ua0JHIkCCQL54vqgiQCIDqIU6CiNAwcWRkrZrI0BgiHufMs0jQABLZayuLiRAnw1PuSqQJEA+0DjGpvEkQN6SItMiUyVAfVUM4J60JUAdGPbsGhYmQLza3/mWdyZAW53JBhPZJkD7X7MTjzonQJoinSALnCdAOuWGLYf9J0DZp3A6A18oQHhqWkd/wChAGC1EVPshKUC37y1hd4MpQFeyF27z5ClA9nQBe29GKkCVN+uH66cqQDX61JRnCStA1Ly+oeNqK0B0f6iuX8wrQBNCkrvbLSxAsgR8yFePLEBSx2XV0/AsQPGJT+JPUi1AkEw578uzLUAwDyP8RxUuQM/RDAnEdi5Ab5T2FUDYLkAOV+AivDkvQK0Zyi84my9ATdyzPLT8L0B2z84kGC8wQMawQyvWXzBAFZK4MZSQMEBlcy04UsEwQLVUoj4Q8jBABTYXRc4iMUBUF4xLjFMxQKT4AFJKhDFA9Nl1WAi1MUBDu+pexuUxQJOcX2WEFjJA433Ua0JHMkAyX0lyAHgyQIJAvni+qDJA0iEzf3zZMkA=\",\"dtype\":\"float64\",\"shape\":[100]},\"y\":{\"__ndarray__\":\"AAAAAAAAAACQrKCAYjnIP/qTDVNRydc/C1i7+O1M4T//Fz+UIBXmP5VBRZYBEeo/EyzujrQb7T/fXvqSFBnvP4OsWqO49u8/8EI4BJ6s7z/GU2Jbcj3uP6xMWOh6tus/oig6uxkv6D/0eLFa9cfjP/KoPlWVU90/xo12/ecH0j/8U0fFl1W4P+pTR8WXVbi/u412/ecH0r/uqD5VlVPdv/B4sVr1x+O/oCg6uxkv6L+oTFjoerbrv8RTYltyPe6/70I4BJ6s77+DrFqjuPbvv+Fe+pIUGe+/FSzujrQb7b+YQUWWARHqvwAYP5QgFea/EVi7+O1M4b8ElA1TUcnXv6CsoIBiOci/B1wUMyamsbyOrKCAYjnIP+6TDVNRydc/B1i7+O1M4T/9Fz+UIBXmP5RBRZYBEeo/ECzujrQb7T/eXvqSFBnvP4OsWqO49u8/8EI4BJ6s7z/GU2Jbcj3uP69MWOh6tus/oCg6uxkv6D/2eLFa9cfjPwSpPlWVU90/w412/ecH0j8tVEfFl1W4P/lTR8WXVbi/to12/ecH0r/cqD5VlVPdv/F4sVr1x+O/nCg6uxkv6L+jTFjoerbrv8RTYltyPe6/7kI4BJ6s77+DrFqjuPbvv+Fe+pIUGe+/GSzujrQb7b+YQUWWARHqvwcYP5QgFea/DFi7+O1M4b8IlA1TUcnXv8isoIBiOci/B1wUMyamwbxmrKCAYjnIP/iTDVNRydc/BVi7+O1M4T/2Fz+UIBXmP5NBRZYBEeo/DyzujrQb7T/fXvqSFBnvP4OsWqO49u8/8UI4BJ6s7z/HU2Jbcj3uP7BMWOh6tus/rCg6uxkv6D/4eLFa9cfjPwipPlWVU90/x412/ecH0j8/VEfFl1W4P2hTR8WXVbi/so12/ecH0r/YqD5VlVPdv+94sVr1x+O/kCg6uxkv6L+iTFjoerbrv8NTYltyPe6/8EI4BJ6s77+ErFqjuPbvv+Je+pIUGe+/FCzujrQb7b+jQUWWARHqvwkYP5QgFea/D1i7+O1M4b8qlA1TUcnXv9CsoIBiOci/CoqeTDl5yrw=\",\"dtype\":\"float64\",\"shape\":[100]}},\"selected\":{\"id\":\"f8fd5c6b-a825-4dc2-b05f-2b9dc9d7723f\",\"type\":\"Selection\"},\"selection_policy\":{\"id\":\"2b9434ee-0d70-47ad-be20-df0610b1400a\",\"type\":\"UnionRenderers\"}},\"id\":\"1f2ab8b7-eff9-4d6f-8f59-b04b37f7efd0\",\"type\":\"ColumnDataSource\"},{\"attributes\":{\"line_alpha\":0.1,\"line_color\":\"#1f77b4\",\"line_width\":2,\"x\":{\"field\":\"x\"},\"y\":{\"field\":\"y\"}},\"id\":\"f63a1188-697c-47e9-909c-817efba3a231\",\"type\":\"Line\"},{\"attributes\":{\"source\":{\"id\":\"1f2ab8b7-eff9-4d6f-8f59-b04b37f7efd0\",\"type\":\"ColumnDataSource\"}},\"id\":\"4c5c94a6-6355-4ffd-aaf3-c4eb675fb4c5\",\"type\":\"CDSView\"},{\"attributes\":{},\"id\":\"fd677936-afb7-4fc3-b528-c1fd3b5a78ba\",\"type\":\"WheelZoomTool\"},{\"attributes\":{\"dimension\":1,\"plot\":{\"id\":\"7b1b5b01-9604-4b7f-9577-5f58db4ddbb6\",\"subtype\":\"Figure\",\"type\":\"Plot\"},\"ticker\":{\"id\":\"0e007bde-5026-456d-867b-16deefd4be2b\",\"type\":\"BasicTicker\"}},\"id\":\"8e9f47fd-b6db-488e-93af-537afb864d03\",\"type\":\"Grid\"},{\"attributes\":{\"callback\":null},\"id\":\"a8703651-33a3-4afe-b203-8c052f2ea983\",\"type\":\"DataRange1d\"},{\"attributes\":{},\"id\":\"2a79ce8a-07f7-4132-b69d-0606cdc4a75c\",\"type\":\"HelpTool\"},{\"attributes\":{},\"id\":\"a157dc52-027f-4d69-85b7-81a6e12efb51\",\"type\":\"ResetTool\"},{\"attributes\":{},\"id\":\"cb9e7099-3f93-48ef-af48-b1ce8a81e913\",\"type\":\"PanTool\"}],\"root_ids\":[\"7b1b5b01-9604-4b7f-9577-5f58db4ddbb6\"]},\"title\":\"Bokeh Application\",\"version\":\"0.12.16\"}};\n",
       "  var render_items = [{\"docid\":\"10963451-a386-45e6-94ad-daafcf317ea1\",\"elementid\":\"c2519efc-609b-4428-aaf6-0751f99672ca\",\"modelid\":\"7b1b5b01-9604-4b7f-9577-5f58db4ddbb6\"}];\n",
       "  root.Bokeh.embed.embed_items_notebook(docs_json, render_items);\n",
       "\n",
       "  }\n",
       "  if (root.Bokeh !== undefined) {\n",
       "    embed_document(root);\n",
       "  } else {\n",
       "    var attempts = 0;\n",
       "    var timer = setInterval(function(root) {\n",
       "      if (root.Bokeh !== undefined) {\n",
       "        embed_document(root);\n",
       "        clearInterval(timer);\n",
       "      }\n",
       "      attempts++;\n",
       "      if (attempts > 100) {\n",
       "        console.log(\"Bokeh: ERROR: Unable to run BokehJS code because BokehJS library is missing\")\n",
       "        clearInterval(timer);\n",
       "      }\n",
       "    }, 10, root)\n",
       "  }\n",
       "})(window);"
      ],
      "application/vnd.bokehjs_exec.v0+json": ""
     },
     "metadata": {
      "application/vnd.bokehjs_exec.v0+json": {
       "id": "7b1b5b01-9604-4b7f-9577-5f58db4ddbb6"
      }
     },
     "output_type": "display_data"
    }
   ],
   "source": [
    "p = figure(plot_width=800, plot_height=400, title=None)\n",
    "p.line(x, y, line_width=2)\n",
    "p.circle(x, y, fill_color='white',size=8)\n",
    "show(p) "
   ]
  },
  {
   "cell_type": "code",
   "execution_count": 9,
   "metadata": {},
   "outputs": [
    {
     "data": {
      "text/html": [
       "\n",
       "<div class=\"bk-root\">\n",
       "    <div class=\"bk-plotdiv\" id=\"9fe43d53-37f0-4428-8502-a9202f8cfe2a\"></div>\n",
       "</div>"
      ]
     },
     "metadata": {},
     "output_type": "display_data"
    },
    {
     "data": {
      "application/javascript": [
       "(function(root) {\n",
       "  function embed_document(root) {\n",
       "    \n",
       "  var docs_json = {\"e6620909-a40f-4cfb-9ddf-ffe38a20d489\":{\"roots\":{\"references\":[{\"attributes\":{\"fill_alpha\":{\"value\":0.5},\"fill_color\":{\"value\":\"red\"},\"line_alpha\":{\"value\":0.5},\"line_color\":{\"value\":\"red\"},\"x\":{\"field\":\"x\"},\"y\":{\"field\":\"y\"}},\"id\":\"3fa46ae0-7d24-4afc-9d02-9a25cd586c71\",\"type\":\"Circle\"},{\"attributes\":{},\"id\":\"d726c8e3-f623-45e5-80be-6ecafa420d34\",\"type\":\"UnionRenderers\"},{\"attributes\":{\"label\":{\"value\":\"dy/dx loop\"},\"renderers\":[{\"id\":\"70c071d3-091d-40c9-b497-2c8808e1415f\",\"type\":\"GlyphRenderer\"}]},\"id\":\"a660f6b3-cd4b-4ec9-83eb-ef3a4e0894f8\",\"type\":\"LegendItem\"},{\"attributes\":{\"fill_alpha\":{\"value\":0.1},\"fill_color\":{\"value\":\"#1f77b4\"},\"line_alpha\":{\"value\":0.1},\"line_color\":{\"value\":\"#1f77b4\"},\"x\":{\"field\":\"x\"},\"y\":{\"field\":\"y\"}},\"id\":\"1fd73473-5ce6-4292-8a82-51291e2f0e1e\",\"type\":\"Circle\"},{\"attributes\":{\"below\":[{\"id\":\"18fb156b-0591-4ed4-ab52-68727657059c\",\"type\":\"LinearAxis\"}],\"left\":[{\"id\":\"851fedaa-4c85-4907-a91d-664f943da9b3\",\"type\":\"LinearAxis\"}],\"plot_height\":400,\"plot_width\":800,\"renderers\":[{\"id\":\"18fb156b-0591-4ed4-ab52-68727657059c\",\"type\":\"LinearAxis\"},{\"id\":\"dee90bad-0e93-49b7-865f-5efb72d3b94b\",\"type\":\"Grid\"},{\"id\":\"851fedaa-4c85-4907-a91d-664f943da9b3\",\"type\":\"LinearAxis\"},{\"id\":\"bc687325-7f2a-4c93-9a7a-5c22a0404e86\",\"type\":\"Grid\"},{\"id\":\"3b61fa79-eaed-4d32-a93f-d44f0e5ca6ec\",\"type\":\"BoxAnnotation\"},{\"id\":\"be8a1e9d-0185-4e2d-abb6-1e17f0a7b57e\",\"type\":\"Legend\"},{\"id\":\"70c071d3-091d-40c9-b497-2c8808e1415f\",\"type\":\"GlyphRenderer\"},{\"id\":\"f075900e-fe66-4919-805d-cc4cef35e9d4\",\"type\":\"GlyphRenderer\"},{\"id\":\"7efcc82e-1e97-4284-a0ba-c1b82bfedcf1\",\"type\":\"GlyphRenderer\"}],\"title\":null,\"toolbar\":{\"id\":\"aa3a189a-a1ea-4f52-aeec-daa6592b83c7\",\"type\":\"Toolbar\"},\"x_range\":{\"id\":\"20fa4b1d-71f3-4022-8b63-149addf47c2f\",\"type\":\"DataRange1d\"},\"x_scale\":{\"id\":\"09a1e5fe-62ae-4769-8185-eafb2e2b37ba\",\"type\":\"LinearScale\"},\"y_range\":{\"id\":\"af788c5f-a469-4ad0-b0e9-afa556e9634a\",\"type\":\"DataRange1d\"},\"y_scale\":{\"id\":\"420b34df-85db-4d77-b658-1d9357efef50\",\"type\":\"LinearScale\"}},\"id\":\"b80850ba-e34d-4503-9da4-d0bcd7f3c8aa\",\"subtype\":\"Figure\",\"type\":\"Plot\"},{\"attributes\":{\"data_source\":{\"id\":\"9a4a97db-e9e3-4b67-bbc8-86f4ccef36de\",\"type\":\"ColumnDataSource\"},\"glyph\":{\"id\":\"3fa46ae0-7d24-4afc-9d02-9a25cd586c71\",\"type\":\"Circle\"},\"hover_glyph\":null,\"muted_glyph\":null,\"nonselection_glyph\":{\"id\":\"1fd73473-5ce6-4292-8a82-51291e2f0e1e\",\"type\":\"Circle\"},\"selection_glyph\":null,\"view\":{\"id\":\"0e82a2ff-59f1-4646-a68e-e95cf7d729e4\",\"type\":\"CDSView\"}},\"id\":\"f075900e-fe66-4919-805d-cc4cef35e9d4\",\"type\":\"GlyphRenderer\"},{\"attributes\":{},\"id\":\"c93879f3-de12-4cb3-abba-be1c5e92f719\",\"type\":\"UnionRenderers\"},{\"attributes\":{\"source\":{\"id\":\"9a4a97db-e9e3-4b67-bbc8-86f4ccef36de\",\"type\":\"ColumnDataSource\"}},\"id\":\"0e82a2ff-59f1-4646-a68e-e95cf7d729e4\",\"type\":\"CDSView\"},{\"attributes\":{\"callback\":null,\"data\":{\"x\":{\"__ndarray__\":\"AAAAAAAAAADZp3A6A1/IP9mncDoDX9g/433Ua0JH4j/Zp3A6A1/oP8/RDAnEdu4/433Ua0JH8j/ekiLTIlP1P9mncDoDX/g/1Ly+oeNq+z/P0QwJxHb+P2VzLThSwQBA433Ua0JHAkBgiHufMs0DQN6SItMiUwVAW53JBhPZBkDZp3A6A18IQFeyF27z5AlA1Ly+oeNqC0BSx2XV0/AMQM/RDAnEdg5ATdyzPLT8D0Blcy04UsEQQKT4AFJKhBFA433Ua0JHEkAiA6iFOgoTQGCIe58yzRNAnw1PuSqQFEDekiLTIlMVQB0Y9uwaFhZAW53JBhPZFkCaIp0gC5wXQNmncDoDXxhAGC1EVPshGUBXshdu8+QZQJU364frpxpA1Ly+oeNqG0ATQpK72y0cQFLHZdXT8BxAkEw578uzHUDP0QwJxHYeQA5X4CK8OR9ATdyzPLT8H0DGsEMr1l8gQGVzLThSwSBABTYXRc4iIUCk+ABSSoQhQEO76l7G5SFA433Ua0JHIkCCQL54vqgiQCIDqIU6CiNAwcWRkrZrI0BgiHufMs0jQABLZayuLiRAnw1PuSqQJEA+0DjGpvEkQN6SItMiUyVAfVUM4J60JUAdGPbsGhYmQLza3/mWdyZAW53JBhPZJkD7X7MTjzonQJoinSALnCdAOuWGLYf9J0DZp3A6A18oQHhqWkd/wChAGC1EVPshKUC37y1hd4MpQFeyF27z5ClA9nQBe29GKkCVN+uH66cqQDX61JRnCStA1Ly+oeNqK0B0f6iuX8wrQBNCkrvbLSxAsgR8yFePLEBSx2XV0/AsQPGJT+JPUi1AkEw578uzLUAwDyP8RxUuQM/RDAnEdi5Ab5T2FUDYLkAOV+AivDkvQK0Zyi84my9ATdyzPLT8L0B2z84kGC8wQMawQyvWXzBAFZK4MZSQMEBlcy04UsEwQLVUoj4Q8jBABTYXRc4iMUBUF4xLjFMxQKT4AFJKhDFA9Nl1WAi1MUBDu+pexuUxQJOcX2WEFjJA433Ua0JHMkAyX0lyAHgyQIJAvni+qDJA0iEzf3zZMkA=\",\"dtype\":\"float64\",\"shape\":[100]},\"y\":{\"__ndarray__\":\"Nadk9ZfO7z8fAeyNTKjuP2MSWLVYZuw/wiIp7p8d6T/gQyMBhezkP9y8GbCh898/nfOvRJfm1D+DwSXwVDDCP37anpw9U6i/v+DUWK8hzr9mZPsu4ovav/305t2miOK/88i2t+Af57+1JI7bJOHqvyKTMiq1qe2/rD17o9Bf77/avBmwofPvv7A9e6PQX++/IZMyKrWp7b+8JI7bJOHqv+7ItrfgH+e///Tm3aaI4r9yZPsu4ovav8rg1FivIc6/ytqenD1TqL9rwSXwVDDCP5bzr0SX5tQ/zLwZsKHz3z/kQyMBhezkP8AiKe6fHek/YRJYtVhm7D8bAeyNTKjuPzWnZPWXzu8/Nadk9ZfO7z8hAeyNTKjuP2cSWLVYZuw/xCIp7p8d6T/eQyMBhezkP+u8GbCh898/q/OvRJfm1D+SwSXwVDDCP3banpw9U6i/teDUWK8hzr9gZPsu4ovav//05t2miOK/7ci2t+Af57+zJI7bJOHqvx+TMiq1qe2/rj17o9Bf77/avBmwofPvv649e6PQX++/JpMyKrWp7b+8JI7bJOHqv/LItrfgH+e/BvXm3aaI4r+EZPsu4ovav9zg1FivIc6//tqenD1TqL9rwSXwVDDCP4jzr0SX5tQ/zLwZsKHz3z/aQyMBhezkP70iKe6fHek/YhJYtVhm7D8aAeyNTKjuPzSnZPWXzu8/Nqdk9ZfO7z8gAeyNTKjuP2cSWLVYZuw/yyIp7p8d6T/iQyMBhezkP+u8GbCh898/pfOvRJfm1D+VwSXwVDDCP0Lanpw9U6i/jeDUWK8hzr9gZPsu4ovav/b05t2miOK/5ci2t+Af57+zJI7bJOHqvx+TMiq1qe2/qz17o9Bf77/cvBmwofPvv7A9e6PQX++/JpMyKrWp7b+8JI7bJOHqv/rItrfgH+e/D/Xm3aaI4r+EZPsu4ovav8zg1FivIc6/KtuenD1TqL87wSXwVDDCP5Dzr0SX5tQ/zLwZsKHz3z/TQyMBhezkP7giKe6fHek/YxJYtVhm7D8YAeyNTKjuPzSnZPWXzu8/NKdk9ZfO7z8=\",\"dtype\":\"float64\",\"shape\":[100]}},\"selected\":{\"id\":\"abc20c25-28c9-4733-b2eb-0d40dcd3d889\",\"type\":\"Selection\"},\"selection_policy\":{\"id\":\"d726c8e3-f623-45e5-80be-6ecafa420d34\",\"type\":\"UnionRenderers\"}},\"id\":\"c362a23a-c36a-4832-98f3-7b58cdb479fd\",\"type\":\"ColumnDataSource\"},{\"attributes\":{\"data_source\":{\"id\":\"b9a6b7da-40d5-46fa-a964-6c7abd261fea\",\"type\":\"ColumnDataSource\"},\"glyph\":{\"id\":\"e22a5342-67d1-4b5a-aa49-c0f35ef4eabe\",\"type\":\"Line\"},\"hover_glyph\":null,\"muted_glyph\":null,\"nonselection_glyph\":{\"id\":\"294cd7e0-81c6-43ed-80d1-688cd94d3777\",\"type\":\"Line\"},\"selection_glyph\":null,\"view\":{\"id\":\"5094fae8-36c3-4271-99fd-65db4a451fa4\",\"type\":\"CDSView\"}},\"id\":\"7efcc82e-1e97-4284-a0ba-c1b82bfedcf1\",\"type\":\"GlyphRenderer\"},{\"attributes\":{\"active_drag\":\"auto\",\"active_inspect\":\"auto\",\"active_scroll\":\"auto\",\"active_tap\":\"auto\",\"tools\":[{\"id\":\"5be562b6-553e-4023-98fa-4467f4658740\",\"type\":\"PanTool\"},{\"id\":\"a0c5cdae-d026-4da8-88fc-3851c543d98b\",\"type\":\"WheelZoomTool\"},{\"id\":\"7eeca6ca-685c-47a1-aa27-0dd888c697c6\",\"type\":\"BoxZoomTool\"},{\"id\":\"a7f816d8-a537-48f4-a7cf-25d3657cbf7f\",\"type\":\"SaveTool\"},{\"id\":\"9e594c9d-f494-4df4-9204-5e380324562d\",\"type\":\"ResetTool\"},{\"id\":\"28c69f66-37ab-462b-94fe-46d4d842a5b9\",\"type\":\"HelpTool\"}]},\"id\":\"aa3a189a-a1ea-4f52-aeec-daa6592b83c7\",\"type\":\"Toolbar\"},{\"attributes\":{},\"id\":\"abc20c25-28c9-4733-b2eb-0d40dcd3d889\",\"type\":\"Selection\"},{\"attributes\":{},\"id\":\"09a1e5fe-62ae-4769-8185-eafb2e2b37ba\",\"type\":\"LinearScale\"},{\"attributes\":{\"fill_alpha\":{\"value\":0.1},\"fill_color\":{\"value\":\"#1f77b4\"},\"line_alpha\":{\"value\":0.1},\"line_color\":{\"value\":\"#1f77b4\"},\"size\":{\"units\":\"screen\",\"value\":8},\"x\":{\"field\":\"x\"},\"y\":{\"field\":\"y\"}},\"id\":\"37ffaf90-65bb-4f58-8355-587237de5b04\",\"type\":\"Circle\"},{\"attributes\":{\"callback\":null},\"id\":\"af788c5f-a469-4ad0-b0e9-afa556e9634a\",\"type\":\"DataRange1d\"},{\"attributes\":{\"source\":{\"id\":\"b9a6b7da-40d5-46fa-a964-6c7abd261fea\",\"type\":\"ColumnDataSource\"}},\"id\":\"5094fae8-36c3-4271-99fd-65db4a451fa4\",\"type\":\"CDSView\"},{\"attributes\":{},\"id\":\"420b34df-85db-4d77-b658-1d9357efef50\",\"type\":\"LinearScale\"},{\"attributes\":{\"line_width\":2,\"x\":{\"field\":\"x\"},\"y\":{\"field\":\"y\"}},\"id\":\"e22a5342-67d1-4b5a-aa49-c0f35ef4eabe\",\"type\":\"Line\"},{\"attributes\":{\"plot\":{\"id\":\"b80850ba-e34d-4503-9da4-d0bcd7f3c8aa\",\"subtype\":\"Figure\",\"type\":\"Plot\"},\"ticker\":{\"id\":\"d5ab39c8-9590-4990-88ae-7575f54edd09\",\"type\":\"BasicTicker\"}},\"id\":\"dee90bad-0e93-49b7-865f-5efb72d3b94b\",\"type\":\"Grid\"},{\"attributes\":{},\"id\":\"339adb00-b0b3-44e9-a2f8-ef7ff4cb8e08\",\"type\":\"UnionRenderers\"},{\"attributes\":{\"axis_label\":\"x\",\"formatter\":{\"id\":\"563652c1-486c-49f3-a5f3-8c2f74430d68\",\"type\":\"BasicTickFormatter\"},\"plot\":{\"id\":\"b80850ba-e34d-4503-9da4-d0bcd7f3c8aa\",\"subtype\":\"Figure\",\"type\":\"Plot\"},\"ticker\":{\"id\":\"d5ab39c8-9590-4990-88ae-7575f54edd09\",\"type\":\"BasicTicker\"}},\"id\":\"18fb156b-0591-4ed4-ab52-68727657059c\",\"type\":\"LinearAxis\"},{\"attributes\":{\"label\":{\"value\":\"dy/dx array\"},\"renderers\":[{\"id\":\"f075900e-fe66-4919-805d-cc4cef35e9d4\",\"type\":\"GlyphRenderer\"}]},\"id\":\"3d667c73-bdfe-4331-9ae3-bd4db206bfe3\",\"type\":\"LegendItem\"},{\"attributes\":{},\"id\":\"d5ab39c8-9590-4990-88ae-7575f54edd09\",\"type\":\"BasicTicker\"},{\"attributes\":{\"axis_label\":\"d[sin(x)]/dx, cos(x)\",\"formatter\":{\"id\":\"5c74fced-ce51-4e5c-af08-624d1bf25843\",\"type\":\"BasicTickFormatter\"},\"plot\":{\"id\":\"b80850ba-e34d-4503-9da4-d0bcd7f3c8aa\",\"subtype\":\"Figure\",\"type\":\"Plot\"},\"ticker\":{\"id\":\"ba36bd77-bd44-437a-94a1-36b8f31447ce\",\"type\":\"BasicTicker\"}},\"id\":\"851fedaa-4c85-4907-a91d-664f943da9b3\",\"type\":\"LinearAxis\"},{\"attributes\":{},\"id\":\"ba36bd77-bd44-437a-94a1-36b8f31447ce\",\"type\":\"BasicTicker\"},{\"attributes\":{\"callback\":null},\"id\":\"20fa4b1d-71f3-4022-8b63-149addf47c2f\",\"type\":\"DataRange1d\"},{\"attributes\":{\"dimension\":1,\"plot\":{\"id\":\"b80850ba-e34d-4503-9da4-d0bcd7f3c8aa\",\"subtype\":\"Figure\",\"type\":\"Plot\"},\"ticker\":{\"id\":\"ba36bd77-bd44-437a-94a1-36b8f31447ce\",\"type\":\"BasicTicker\"}},\"id\":\"bc687325-7f2a-4c93-9a7a-5c22a0404e86\",\"type\":\"Grid\"},{\"attributes\":{\"label\":{\"value\":\"cos(x)\"},\"renderers\":[{\"id\":\"7efcc82e-1e97-4284-a0ba-c1b82bfedcf1\",\"type\":\"GlyphRenderer\"}]},\"id\":\"85e2daee-11fe-46b4-901d-78584ca43955\",\"type\":\"LegendItem\"},{\"attributes\":{},\"id\":\"ca92b68b-2812-40db-88af-fa0f62bcf67b\",\"type\":\"Selection\"},{\"attributes\":{\"fill_alpha\":{\"value\":0.5},\"fill_color\":{\"value\":\"blue\"},\"line_alpha\":{\"value\":0.5},\"line_color\":{\"value\":\"blue\"},\"size\":{\"units\":\"screen\",\"value\":8},\"x\":{\"field\":\"x\"},\"y\":{\"field\":\"y\"}},\"id\":\"dc1564e1-9397-4ed2-be50-b54f55845421\",\"type\":\"Circle\"},{\"attributes\":{\"callback\":null,\"data\":{\"x\":{\"__ndarray__\":\"AAAAAAAAAADZp3A6A1/IP9mncDoDX9g/433Ua0JH4j/Zp3A6A1/oP8/RDAnEdu4/433Ua0JH8j/ekiLTIlP1P9mncDoDX/g/1Ly+oeNq+z/P0QwJxHb+P2VzLThSwQBA433Ua0JHAkBgiHufMs0DQN6SItMiUwVAW53JBhPZBkDZp3A6A18IQFeyF27z5AlA1Ly+oeNqC0BSx2XV0/AMQM/RDAnEdg5ATdyzPLT8D0Blcy04UsEQQKT4AFJKhBFA433Ua0JHEkAiA6iFOgoTQGCIe58yzRNAnw1PuSqQFEDekiLTIlMVQB0Y9uwaFhZAW53JBhPZFkCaIp0gC5wXQNmncDoDXxhAGC1EVPshGUBXshdu8+QZQJU364frpxpA1Ly+oeNqG0ATQpK72y0cQFLHZdXT8BxAkEw578uzHUDP0QwJxHYeQA5X4CK8OR9ATdyzPLT8H0DGsEMr1l8gQGVzLThSwSBABTYXRc4iIUCk+ABSSoQhQEO76l7G5SFA433Ua0JHIkCCQL54vqgiQCIDqIU6CiNAwcWRkrZrI0BgiHufMs0jQABLZayuLiRAnw1PuSqQJEA+0DjGpvEkQN6SItMiUyVAfVUM4J60JUAdGPbsGhYmQLza3/mWdyZAW53JBhPZJkD7X7MTjzonQJoinSALnCdAOuWGLYf9J0DZp3A6A18oQHhqWkd/wChAGC1EVPshKUC37y1hd4MpQFeyF27z5ClA9nQBe29GKkCVN+uH66cqQDX61JRnCStA1Ly+oeNqK0B0f6iuX8wrQBNCkrvbLSxAsgR8yFePLEBSx2XV0/AsQPGJT+JPUi1AkEw578uzLUAwDyP8RxUuQM/RDAnEdi5Ab5T2FUDYLkAOV+AivDkvQK0Zyi84my9ATdyzPLT8L0B2z84kGC8wQMawQyvWXzBAFZK4MZSQMEBlcy04UsEwQLVUoj4Q8jBABTYXRc4iMUBUF4xLjFMxQKT4AFJKhDFA9Nl1WAi1MUBDu+pexuUxQJOcX2WEFjJA433Ua0JHMkAyX0lyAHgyQIJAvni+qDJA0iEzf3zZMkA=\",\"dtype\":\"float64\",\"shape\":[100]},\"y\":{\"__ndarray__\":\"Nadk9ZfO7z8fAeyNTKjuP2MSWLVYZuw/wiIp7p8d6T/gQyMBhezkP9y8GbCh898/nfOvRJfm1D+DwSXwVDDCP37anpw9U6i/v+DUWK8hzr9mZPsu4ovav/305t2miOK/88i2t+Af57+1JI7bJOHqvyKTMiq1qe2/rD17o9Bf77/avBmwofPvv7A9e6PQX++/IZMyKrWp7b+8JI7bJOHqv+7ItrfgH+e///Tm3aaI4r9yZPsu4ovav8rg1FivIc6/ytqenD1TqL9rwSXwVDDCP5bzr0SX5tQ/zLwZsKHz3z/kQyMBhezkP8AiKe6fHek/YRJYtVhm7D8bAeyNTKjuPzWnZPWXzu8/Nadk9ZfO7z8hAeyNTKjuP2cSWLVYZuw/xCIp7p8d6T/eQyMBhezkP+u8GbCh898/q/OvRJfm1D+SwSXwVDDCP3banpw9U6i/teDUWK8hzr9gZPsu4ovav//05t2miOK/7ci2t+Af57+zJI7bJOHqvx+TMiq1qe2/rj17o9Bf77/avBmwofPvv649e6PQX++/JpMyKrWp7b+8JI7bJOHqv/LItrfgH+e/BvXm3aaI4r+EZPsu4ovav9zg1FivIc6//tqenD1TqL9rwSXwVDDCP4jzr0SX5tQ/zLwZsKHz3z/aQyMBhezkP70iKe6fHek/YhJYtVhm7D8aAeyNTKjuPzSnZPWXzu8/Nqdk9ZfO7z8gAeyNTKjuP2cSWLVYZuw/yyIp7p8d6T/iQyMBhezkP+u8GbCh898/pfOvRJfm1D+VwSXwVDDCP0Lanpw9U6i/jeDUWK8hzr9gZPsu4ovav/b05t2miOK/5ci2t+Af57+zJI7bJOHqvx+TMiq1qe2/qz17o9Bf77/cvBmwofPvv7A9e6PQX++/JpMyKrWp7b+8JI7bJOHqv/rItrfgH+e/D/Xm3aaI4r+EZPsu4ovav8zg1FivIc6/KtuenD1TqL87wSXwVDDCP5Dzr0SX5tQ/zLwZsKHz3z/TQyMBhezkP7giKe6fHek/YxJYtVhm7D8YAeyNTKjuPzSnZPWXzu8/NKdk9ZfO7z8=\",\"dtype\":\"float64\",\"shape\":[100]}},\"selected\":{\"id\":\"7601c9d3-cfd8-40f3-ac4c-74e5e227cc66\",\"type\":\"Selection\"},\"selection_policy\":{\"id\":\"339adb00-b0b3-44e9-a2f8-ef7ff4cb8e08\",\"type\":\"UnionRenderers\"}},\"id\":\"9a4a97db-e9e3-4b67-bbc8-86f4ccef36de\",\"type\":\"ColumnDataSource\"},{\"attributes\":{\"bottom_units\":\"screen\",\"fill_alpha\":{\"value\":0.5},\"fill_color\":{\"value\":\"lightgrey\"},\"left_units\":\"screen\",\"level\":\"overlay\",\"line_alpha\":{\"value\":1.0},\"line_color\":{\"value\":\"black\"},\"line_dash\":[4,4],\"line_width\":{\"value\":2},\"plot\":null,\"render_mode\":\"css\",\"right_units\":\"screen\",\"top_units\":\"screen\"},\"id\":\"3b61fa79-eaed-4d32-a93f-d44f0e5ca6ec\",\"type\":\"BoxAnnotation\"},{\"attributes\":{},\"id\":\"5be562b6-553e-4023-98fa-4467f4658740\",\"type\":\"PanTool\"},{\"attributes\":{\"source\":{\"id\":\"c362a23a-c36a-4832-98f3-7b58cdb479fd\",\"type\":\"ColumnDataSource\"}},\"id\":\"c339a5fe-f5b3-4e5b-886f-5726f7b2cca3\",\"type\":\"CDSView\"},{\"attributes\":{},\"id\":\"7601c9d3-cfd8-40f3-ac4c-74e5e227cc66\",\"type\":\"Selection\"},{\"attributes\":{\"data_source\":{\"id\":\"c362a23a-c36a-4832-98f3-7b58cdb479fd\",\"type\":\"ColumnDataSource\"},\"glyph\":{\"id\":\"dc1564e1-9397-4ed2-be50-b54f55845421\",\"type\":\"Circle\"},\"hover_glyph\":null,\"muted_glyph\":null,\"nonselection_glyph\":{\"id\":\"37ffaf90-65bb-4f58-8355-587237de5b04\",\"type\":\"Circle\"},\"selection_glyph\":null,\"view\":{\"id\":\"c339a5fe-f5b3-4e5b-886f-5726f7b2cca3\",\"type\":\"CDSView\"}},\"id\":\"70c071d3-091d-40c9-b497-2c8808e1415f\",\"type\":\"GlyphRenderer\"},{\"attributes\":{},\"id\":\"a0c5cdae-d026-4da8-88fc-3851c543d98b\",\"type\":\"WheelZoomTool\"},{\"attributes\":{\"overlay\":{\"id\":\"3b61fa79-eaed-4d32-a93f-d44f0e5ca6ec\",\"type\":\"BoxAnnotation\"}},\"id\":\"7eeca6ca-685c-47a1-aa27-0dd888c697c6\",\"type\":\"BoxZoomTool\"},{\"attributes\":{},\"id\":\"a7f816d8-a537-48f4-a7cf-25d3657cbf7f\",\"type\":\"SaveTool\"},{\"attributes\":{},\"id\":\"9e594c9d-f494-4df4-9204-5e380324562d\",\"type\":\"ResetTool\"},{\"attributes\":{},\"id\":\"28c69f66-37ab-462b-94fe-46d4d842a5b9\",\"type\":\"HelpTool\"},{\"attributes\":{\"items\":[{\"id\":\"a660f6b3-cd4b-4ec9-83eb-ef3a4e0894f8\",\"type\":\"LegendItem\"},{\"id\":\"3d667c73-bdfe-4331-9ae3-bd4db206bfe3\",\"type\":\"LegendItem\"},{\"id\":\"85e2daee-11fe-46b4-901d-78584ca43955\",\"type\":\"LegendItem\"}],\"plot\":{\"id\":\"b80850ba-e34d-4503-9da4-d0bcd7f3c8aa\",\"subtype\":\"Figure\",\"type\":\"Plot\"}},\"id\":\"be8a1e9d-0185-4e2d-abb6-1e17f0a7b57e\",\"type\":\"Legend\"},{\"attributes\":{},\"id\":\"5c74fced-ce51-4e5c-af08-624d1bf25843\",\"type\":\"BasicTickFormatter\"},{\"attributes\":{},\"id\":\"563652c1-486c-49f3-a5f3-8c2f74430d68\",\"type\":\"BasicTickFormatter\"},{\"attributes\":{\"line_alpha\":0.1,\"line_color\":\"#1f77b4\",\"line_width\":2,\"x\":{\"field\":\"x\"},\"y\":{\"field\":\"y\"}},\"id\":\"294cd7e0-81c6-43ed-80d1-688cd94d3777\",\"type\":\"Line\"},{\"attributes\":{\"callback\":null,\"data\":{\"x\":{\"__ndarray__\":\"AAAAAAAAAADZp3A6A1/IP9mncDoDX9g/433Ua0JH4j/Zp3A6A1/oP8/RDAnEdu4/433Ua0JH8j/ekiLTIlP1P9mncDoDX/g/1Ly+oeNq+z/P0QwJxHb+P2VzLThSwQBA433Ua0JHAkBgiHufMs0DQN6SItMiUwVAW53JBhPZBkDZp3A6A18IQFeyF27z5AlA1Ly+oeNqC0BSx2XV0/AMQM/RDAnEdg5ATdyzPLT8D0Blcy04UsEQQKT4AFJKhBFA433Ua0JHEkAiA6iFOgoTQGCIe58yzRNAnw1PuSqQFEDekiLTIlMVQB0Y9uwaFhZAW53JBhPZFkCaIp0gC5wXQNmncDoDXxhAGC1EVPshGUBXshdu8+QZQJU364frpxpA1Ly+oeNqG0ATQpK72y0cQFLHZdXT8BxAkEw578uzHUDP0QwJxHYeQA5X4CK8OR9ATdyzPLT8H0DGsEMr1l8gQGVzLThSwSBABTYXRc4iIUCk+ABSSoQhQEO76l7G5SFA433Ua0JHIkCCQL54vqgiQCIDqIU6CiNAwcWRkrZrI0BgiHufMs0jQABLZayuLiRAnw1PuSqQJEA+0DjGpvEkQN6SItMiUyVAfVUM4J60JUAdGPbsGhYmQLza3/mWdyZAW53JBhPZJkD7X7MTjzonQJoinSALnCdAOuWGLYf9J0DZp3A6A18oQHhqWkd/wChAGC1EVPshKUC37y1hd4MpQFeyF27z5ClA9nQBe29GKkCVN+uH66cqQDX61JRnCStA1Ly+oeNqK0B0f6iuX8wrQBNCkrvbLSxAsgR8yFePLEBSx2XV0/AsQPGJT+JPUi1AkEw578uzLUAwDyP8RxUuQM/RDAnEdi5Ab5T2FUDYLkAOV+AivDkvQK0Zyi84my9ATdyzPLT8L0B2z84kGC8wQMawQyvWXzBAFZK4MZSQMEBlcy04UsEwQLVUoj4Q8jBABTYXRc4iMUBUF4xLjFMxQKT4AFJKhDFA9Nl1WAi1MUBDu+pexuUxQJOcX2WEFjJA433Ua0JHMkAyX0lyAHgyQIJAvni+qDJA0iEzf3zZMkA=\",\"dtype\":\"float64\",\"shape\":[100]},\"y\":{\"__ndarray__\":\"AAAAAAAA8D8l6Te79WvvP1yx3qowte0/uvBkh4zr6j+1ORVJ1CjnPwSrDYLTj+I/thLH2SiW2j+MWuBKWS3OP5MgsCioXKg/1kQPZF83wr85IYF3ru7Uv/z//////9+/hlh3f5705L8k4NrRWCfpv8Hy7wlXcey/VlDNmyq07r9eNPHu59rvv1408e7n2u+/WFDNmyq07r/C8u8JV3Hsvyjg2tFYJ+m/iFh3f5705L8EAAAAAADgv0EhgXeu7tS/30QPZF83wr+QILAoqFyoP3Ra4EpZLc4/rxLH2SiW2j8Bqw2C04/iP7Q5FUnUKOc/tvBkh4zr6j9asd6qMLXtPyTpN7v1a+8/AAAAAAAA8D8l6Te79WvvP1+x3qowte0/vPBkh4zr6j+3ORVJ1CjnPwWrDYLTj+I/xhLH2SiW2j+kWuBKWS3OP9YgsCioXKg/zUQPZF83wr84IYF3ru7Uv/H//////9+/iFh3f5705L8j4NrRWCfpv73y7wlXcey/V1DNmyq07r9dNPHu59rvv1408e7n2u+/WVDNmyq07r/H8u8JV3Hsvybg2tFYJ+m/jVh3f5705L8NAAAAAADgv0YhgXeu7tS/BkUPZF83wr9sILAoqFyoP2xa4EpZLc4/nBLH2SiW2j//qg2C04/iP645FUnUKOc/ufBkh4zr6j9asd6qMLXtPyLpN7v1a+8/AAAAAAAA8D8n6Te79WvvP12x3qowte0/vvBkh4zr6j++ORVJ1CjnPwerDYLTj+I/yRLH2SiW2j+OWuBKWS3OP/kgsCioXKg/pEQPZF83wr81IYF3ru7Uv+7//////9+/elh3f5705L8h4NrRWCfpv7zy7wlXcey/VlDNmyq07r9dNPHu59rvv2A08e7n2u+/WVDNmyq07r/I8u8JV3Hsvyjg2tFYJ+m/mlh3f5705L8OAAAAAADgv0khgXeu7tS/0EQPZF83wr9KH7AoqFyoP2Na4EpZLc4/tRLH2SiW2j/xqg2C04/iP6w5FUnUKOc/uPBkh4zr6j9Tsd6qMLXtPyLpN7v1a+8/AAAAAAAA8D8=\",\"dtype\":\"float64\",\"shape\":[100]}},\"selected\":{\"id\":\"ca92b68b-2812-40db-88af-fa0f62bcf67b\",\"type\":\"Selection\"},\"selection_policy\":{\"id\":\"c93879f3-de12-4cb3-abba-be1c5e92f719\",\"type\":\"UnionRenderers\"}},\"id\":\"b9a6b7da-40d5-46fa-a964-6c7abd261fea\",\"type\":\"ColumnDataSource\"}],\"root_ids\":[\"b80850ba-e34d-4503-9da4-d0bcd7f3c8aa\"]},\"title\":\"Bokeh Application\",\"version\":\"0.12.16\"}};\n",
       "  var render_items = [{\"docid\":\"e6620909-a40f-4cfb-9ddf-ffe38a20d489\",\"elementid\":\"9fe43d53-37f0-4428-8502-a9202f8cfe2a\",\"modelid\":\"b80850ba-e34d-4503-9da4-d0bcd7f3c8aa\"}];\n",
       "  root.Bokeh.embed.embed_items_notebook(docs_json, render_items);\n",
       "\n",
       "  }\n",
       "  if (root.Bokeh !== undefined) {\n",
       "    embed_document(root);\n",
       "  } else {\n",
       "    var attempts = 0;\n",
       "    var timer = setInterval(function(root) {\n",
       "      if (root.Bokeh !== undefined) {\n",
       "        embed_document(root);\n",
       "        clearInterval(timer);\n",
       "      }\n",
       "      attempts++;\n",
       "      if (attempts > 100) {\n",
       "        console.log(\"Bokeh: ERROR: Unable to run BokehJS code because BokehJS library is missing\")\n",
       "        clearInterval(timer);\n",
       "      }\n",
       "    }, 10, root)\n",
       "  }\n",
       "})(window);"
      ],
      "application/vnd.bokehjs_exec.v0+json": ""
     },
     "metadata": {
      "application/vnd.bokehjs_exec.v0+json": {
       "id": "b80850ba-e34d-4503-9da4-d0bcd7f3c8aa"
      }
     },
     "output_type": "display_data"
    }
   ],
   "source": [
    "# methods for differencing\n",
    "\n",
    "# for loop ---------------\n",
    "\n",
    "dydx1 = zeros(N)\n",
    "\n",
    "for i in range(0,ilast):\n",
    "    dydx1[i] = (y[i+1]-y[i])/(x[i+1]-x[i])\n",
    "    \n",
    "dydx1[ilast] = (y[ilast]-y[ilast-1])/(x[ilast]-x[ilast-1])\n",
    "\n",
    "# array slicing ----------------------\n",
    "\n",
    "dydx2 = zeros(N)\n",
    "\n",
    "dydx2[:-1] = (y[1:]-y[:-1])/(x[1:]-x[:-1])\n",
    "dydx2[ilast] = (y[ilast]-y[ilast-1])/(x[ilast]-x[ilast-1])\n",
    "\n",
    "# plot the two and compare with the analytic derivative d[sin(x)]/dx = cos(x)\n",
    "\n",
    "p = figure(plot_width=800, plot_height=400, title=None)\n",
    "p.circle(x, dydx1,color=\"blue\", alpha=0.5, size=8, legend=\"dy/dx loop\")\n",
    "p.circle(x, dydx2, color=\"red\", alpha=0.5, size=4, legend=\"dy/dx array\")\n",
    "p.line(x, cos(x), line_width=2, color=\"black\", legend=\"cos(x)\")\n",
    "p.xaxis.axis_label = 'x'\n",
    "p.yaxis.axis_label = 'd[sin(x)]/dx, cos(x)'\n",
    "show(p) "
   ]
  },
  {
   "cell_type": "code",
   "execution_count": 15,
   "metadata": {},
   "outputs": [
    {
     "name": "stdout",
     "output_type": "stream",
     "text": [
      "56.6 µs ± 582 ns per loop (mean ± std. dev. of 7 runs, 10000 loops each)\n"
     ]
    }
   ],
   "source": [
    "%%timeit\n",
    "dydx1 = zeros(N)\n",
    "\n",
    "for i in range(0,ilast):\n",
    "    dydx1[i] = (y[i+1]-y[i])/(x[i+1]-x[i])\n",
    "    \n",
    "dydx1[ilast] = (y[ilast]-y[ilast-1])/(x[ilast]-x[ilast-1])"
   ]
  },
  {
   "cell_type": "code",
   "execution_count": 16,
   "metadata": {},
   "outputs": [
    {
     "name": "stdout",
     "output_type": "stream",
     "text": [
      "4.06 µs ± 73.1 ns per loop (mean ± std. dev. of 7 runs, 100000 loops each)\n"
     ]
    }
   ],
   "source": [
    "%%timeit\n",
    "dydx2 = zeros(N)\n",
    "\n",
    "dydx2[:-1] = (y[1:]-y[:-1])/(x[1:]-x[:-1])\n",
    "dydx2[ilast] = (y[ilast]-y[ilast-1])/(x[ilast]-x[ilast-1])"
   ]
  },
  {
   "cell_type": "code",
   "execution_count": 14,
   "metadata": {},
   "outputs": [
    {
     "data": {
      "text/html": [
       "\n",
       "<div class=\"bk-root\">\n",
       "    <div class=\"bk-plotdiv\" id=\"bbf1a922-8fe3-4984-93ea-c9346e9463ff\"></div>\n",
       "</div>"
      ]
     },
     "metadata": {},
     "output_type": "display_data"
    },
    {
     "data": {
      "application/javascript": [
       "(function(root) {\n",
       "  function embed_document(root) {\n",
       "    \n",
       "  var docs_json = {\"7dd29b20-c740-40a4-b27c-a581d5b93489\":{\"roots\":{\"references\":[{\"attributes\":{},\"id\":\"d9fb62e2-cbce-4f5b-a836-4fcfbf152f1a\",\"type\":\"UnionRenderers\"},{\"attributes\":{\"callback\":null,\"data\":{\"x\":{\"__ndarray__\":\"AAAAAAAAAADZp3A6A1/IP9mncDoDX9g/433Ua0JH4j/Zp3A6A1/oP8/RDAnEdu4/433Ua0JH8j/ekiLTIlP1P9mncDoDX/g/1Ly+oeNq+z/P0QwJxHb+P2VzLThSwQBA433Ua0JHAkBgiHufMs0DQN6SItMiUwVAW53JBhPZBkDZp3A6A18IQFeyF27z5AlA1Ly+oeNqC0BSx2XV0/AMQM/RDAnEdg5ATdyzPLT8D0Blcy04UsEQQKT4AFJKhBFA433Ua0JHEkAiA6iFOgoTQGCIe58yzRNAnw1PuSqQFEDekiLTIlMVQB0Y9uwaFhZAW53JBhPZFkCaIp0gC5wXQNmncDoDXxhAGC1EVPshGUBXshdu8+QZQJU364frpxpA1Ly+oeNqG0ATQpK72y0cQFLHZdXT8BxAkEw578uzHUDP0QwJxHYeQA5X4CK8OR9ATdyzPLT8H0DGsEMr1l8gQGVzLThSwSBABTYXRc4iIUCk+ABSSoQhQEO76l7G5SFA433Ua0JHIkCCQL54vqgiQCIDqIU6CiNAwcWRkrZrI0BgiHufMs0jQABLZayuLiRAnw1PuSqQJEA+0DjGpvEkQN6SItMiUyVAfVUM4J60JUAdGPbsGhYmQLza3/mWdyZAW53JBhPZJkD7X7MTjzonQJoinSALnCdAOuWGLYf9J0DZp3A6A18oQHhqWkd/wChAGC1EVPshKUC37y1hd4MpQFeyF27z5ClA9nQBe29GKkCVN+uH66cqQDX61JRnCStA1Ly+oeNqK0B0f6iuX8wrQBNCkrvbLSxAsgR8yFePLEBSx2XV0/AsQPGJT+JPUi1AkEw578uzLUAwDyP8RxUuQM/RDAnEdi5Ab5T2FUDYLkAOV+AivDkvQK0Zyi84my9ATdyzPLT8L0B2z84kGC8wQMawQyvWXzBAFZK4MZSQMEBlcy04UsEwQLVUoj4Q8jBABTYXRc4iMUBUF4xLjFMxQKT4AFJKhDFA9Nl1WAi1MUBDu+pexuUxQJOcX2WEFjJA433Ua0JHMkAyX0lyAHgyQIJAvni+qDJA0iEzf3zZMkA=\",\"dtype\":\"float64\",\"shape\":[100]},\"y\":{\"__ndarray__\":\"AAAAAAAA8D8l6Te79WvvP1yx3qowte0/uvBkh4zr6j+1ORVJ1CjnPwSrDYLTj+I/thLH2SiW2j+MWuBKWS3OP5MgsCioXKg/1kQPZF83wr85IYF3ru7Uv/z//////9+/hlh3f5705L8k4NrRWCfpv8Hy7wlXcey/VlDNmyq07r9eNPHu59rvv1408e7n2u+/WFDNmyq07r/C8u8JV3Hsvyjg2tFYJ+m/iFh3f5705L8EAAAAAADgv0EhgXeu7tS/30QPZF83wr+QILAoqFyoP3Ra4EpZLc4/rxLH2SiW2j8Bqw2C04/iP7Q5FUnUKOc/tvBkh4zr6j9asd6qMLXtPyTpN7v1a+8/AAAAAAAA8D8l6Te79WvvP1+x3qowte0/vPBkh4zr6j+3ORVJ1CjnPwWrDYLTj+I/xhLH2SiW2j+kWuBKWS3OP9YgsCioXKg/zUQPZF83wr84IYF3ru7Uv/H//////9+/iFh3f5705L8j4NrRWCfpv73y7wlXcey/V1DNmyq07r9dNPHu59rvv1408e7n2u+/WVDNmyq07r/H8u8JV3Hsvybg2tFYJ+m/jVh3f5705L8NAAAAAADgv0YhgXeu7tS/BkUPZF83wr9sILAoqFyoP2xa4EpZLc4/nBLH2SiW2j//qg2C04/iP645FUnUKOc/ufBkh4zr6j9asd6qMLXtPyLpN7v1a+8/AAAAAAAA8D8n6Te79WvvP12x3qowte0/vvBkh4zr6j++ORVJ1CjnPwerDYLTj+I/yRLH2SiW2j+OWuBKWS3OP/kgsCioXKg/pEQPZF83wr81IYF3ru7Uv+7//////9+/elh3f5705L8h4NrRWCfpv7zy7wlXcey/VlDNmyq07r9dNPHu59rvv2A08e7n2u+/WVDNmyq07r/I8u8JV3Hsvyjg2tFYJ+m/mlh3f5705L8OAAAAAADgv0khgXeu7tS/0EQPZF83wr9KH7AoqFyoP2Na4EpZLc4/tRLH2SiW2j/xqg2C04/iP6w5FUnUKOc/uPBkh4zr6j9Tsd6qMLXtPyLpN7v1a+8/AAAAAAAA8D8=\",\"dtype\":\"float64\",\"shape\":[100]}},\"selected\":{\"id\":\"9c7216e6-ae3e-46b3-9f34-9cbf5c1e602e\",\"type\":\"Selection\"},\"selection_policy\":{\"id\":\"be58afc4-3557-4a9b-9325-2d05fb12b0d4\",\"type\":\"UnionRenderers\"}},\"id\":\"428092f4-60dc-4e1c-b8f8-a597833191f7\",\"type\":\"ColumnDataSource\"},{\"attributes\":{},\"id\":\"1cff4f07-0921-475e-a31f-8c9459dee6aa\",\"type\":\"UnionRenderers\"},{\"attributes\":{\"source\":{\"id\":\"428092f4-60dc-4e1c-b8f8-a597833191f7\",\"type\":\"ColumnDataSource\"}},\"id\":\"9aab34ef-781b-4c1c-a75b-5941e34eacd5\",\"type\":\"CDSView\"},{\"attributes\":{\"data_source\":{\"id\":\"428092f4-60dc-4e1c-b8f8-a597833191f7\",\"type\":\"ColumnDataSource\"},\"glyph\":{\"id\":\"f55d78ad-a514-444a-9c19-cda58131e2a5\",\"type\":\"Line\"},\"hover_glyph\":null,\"muted_glyph\":null,\"nonselection_glyph\":{\"id\":\"5ab27847-125c-4f6e-ad1b-680d828f8e0a\",\"type\":\"Line\"},\"selection_glyph\":null,\"view\":{\"id\":\"9aab34ef-781b-4c1c-a75b-5941e34eacd5\",\"type\":\"CDSView\"}},\"id\":\"1d92c02a-27e1-49ab-9402-969b365107f7\",\"type\":\"GlyphRenderer\"},{\"attributes\":{\"fill_alpha\":{\"value\":0.5},\"fill_color\":{\"value\":\"blue\"},\"line_alpha\":{\"value\":0.5},\"line_color\":{\"value\":\"blue\"},\"size\":{\"units\":\"screen\",\"value\":8},\"x\":{\"field\":\"x\"},\"y\":{\"field\":\"y\"}},\"id\":\"890437e0-8cb8-4293-b918-14b71cc0e09d\",\"type\":\"Circle\"},{\"attributes\":{\"source\":{\"id\":\"5aa25f33-9632-4496-9297-e5bce843c62d\",\"type\":\"ColumnDataSource\"}},\"id\":\"d46ec0de-b035-4db0-b1f1-dd1b94521543\",\"type\":\"CDSView\"},{\"attributes\":{\"below\":[{\"id\":\"b0fc7202-415f-431d-b059-6d3b3b5efb03\",\"type\":\"LinearAxis\"}],\"left\":[{\"id\":\"1a70624d-7461-481a-936b-2adb9afd8f9e\",\"type\":\"LinearAxis\"}],\"plot_height\":400,\"plot_width\":800,\"renderers\":[{\"id\":\"b0fc7202-415f-431d-b059-6d3b3b5efb03\",\"type\":\"LinearAxis\"},{\"id\":\"d2e619e1-2abe-4a51-ae96-8cc86d873063\",\"type\":\"Grid\"},{\"id\":\"1a70624d-7461-481a-936b-2adb9afd8f9e\",\"type\":\"LinearAxis\"},{\"id\":\"4184efbc-0a63-4615-b9ea-2a6667bc8287\",\"type\":\"Grid\"},{\"id\":\"49829810-7f69-4edd-9af1-07d4725414c0\",\"type\":\"BoxAnnotation\"},{\"id\":\"de1c0d21-b7aa-48a1-913e-9af16f1fd933\",\"type\":\"Legend\"},{\"id\":\"abf510a1-27b2-4110-b153-c08b4e241d3e\",\"type\":\"GlyphRenderer\"},{\"id\":\"ceee30c3-a4b9-4c70-a5c6-9d6a1dabee1b\",\"type\":\"GlyphRenderer\"},{\"id\":\"05e352d7-986e-49c8-a9e7-47179ffb76f6\",\"type\":\"GlyphRenderer\"},{\"id\":\"1d92c02a-27e1-49ab-9402-969b365107f7\",\"type\":\"GlyphRenderer\"}],\"title\":null,\"toolbar\":{\"id\":\"99bdfe81-4c71-46e1-bef4-d00d246a4716\",\"type\":\"Toolbar\"},\"x_range\":{\"id\":\"02228d33-fdfc-4116-8649-21d0b52cfeae\",\"type\":\"DataRange1d\"},\"x_scale\":{\"id\":\"c80fb0a8-fad8-4613-80fe-2b7671a7f30c\",\"type\":\"LinearScale\"},\"y_range\":{\"id\":\"8f2ebe8d-6a08-4878-a689-f6134f495428\",\"type\":\"DataRange1d\"},\"y_scale\":{\"id\":\"1719cc59-f768-4e58-92b2-57e5aea61a78\",\"type\":\"LinearScale\"}},\"id\":\"5a7c5d86-bacf-4bdc-a369-44402ba12239\",\"subtype\":\"Figure\",\"type\":\"Plot\"},{\"attributes\":{},\"id\":\"c9a552fe-b390-4e64-9ad8-074fc492c371\",\"type\":\"UnionRenderers\"},{\"attributes\":{\"source\":{\"id\":\"69f5aff1-92c3-4677-9ae9-269bbad12193\",\"type\":\"ColumnDataSource\"}},\"id\":\"b6bf5fbc-0a8a-40f8-acb3-0e95a21fe70a\",\"type\":\"CDSView\"},{\"attributes\":{},\"id\":\"488b2572-e2ce-4c88-ab52-4c7cb1396e50\",\"type\":\"Selection\"},{\"attributes\":{\"items\":[{\"id\":\"85e27fe3-c95b-4ef1-877e-f1b8176fac44\",\"type\":\"LegendItem\"},{\"id\":\"01911f02-0596-4286-8901-4f49765099bc\",\"type\":\"LegendItem\"},{\"id\":\"f5f402a7-1b93-4f96-aada-6440cb26fb2e\",\"type\":\"LegendItem\"},{\"id\":\"d4989100-38f4-437a-9213-f48ee2ed8fd3\",\"type\":\"LegendItem\"}],\"plot\":{\"id\":\"5a7c5d86-bacf-4bdc-a369-44402ba12239\",\"subtype\":\"Figure\",\"type\":\"Plot\"}},\"id\":\"de1c0d21-b7aa-48a1-913e-9af16f1fd933\",\"type\":\"Legend\"},{\"attributes\":{\"label\":{\"value\":\"Backward\"},\"renderers\":[{\"id\":\"ceee30c3-a4b9-4c70-a5c6-9d6a1dabee1b\",\"type\":\"GlyphRenderer\"}]},\"id\":\"01911f02-0596-4286-8901-4f49765099bc\",\"type\":\"LegendItem\"},{\"attributes\":{\"active_drag\":\"auto\",\"active_inspect\":\"auto\",\"active_scroll\":\"auto\",\"active_tap\":\"auto\",\"tools\":[{\"id\":\"8e6e3d27-5035-45f3-8ed2-81a331324b01\",\"type\":\"PanTool\"},{\"id\":\"fdbd9738-3925-4d79-8b95-c13e40f44c9e\",\"type\":\"WheelZoomTool\"},{\"id\":\"3132c760-cbae-4272-a480-a40c2aefd938\",\"type\":\"BoxZoomTool\"},{\"id\":\"821ff5f7-5696-42c8-a423-e488701bc713\",\"type\":\"SaveTool\"},{\"id\":\"20aebf33-5874-461f-802b-3dcbe5f9c30e\",\"type\":\"ResetTool\"},{\"id\":\"4e4b9120-53c0-4be8-a004-fcf32dc04d42\",\"type\":\"HelpTool\"}]},\"id\":\"99bdfe81-4c71-46e1-bef4-d00d246a4716\",\"type\":\"Toolbar\"},{\"attributes\":{\"fill_alpha\":{\"value\":0.1},\"fill_color\":{\"value\":\"#1f77b4\"},\"line_alpha\":{\"value\":0.1},\"line_color\":{\"value\":\"#1f77b4\"},\"size\":{\"units\":\"screen\",\"value\":12},\"x\":{\"field\":\"x\"},\"y\":{\"field\":\"y\"}},\"id\":\"d94c5b03-7487-48fe-ae02-4de8ee26c5f4\",\"type\":\"Asterisk\"},{\"attributes\":{\"callback\":null},\"id\":\"02228d33-fdfc-4116-8649-21d0b52cfeae\",\"type\":\"DataRange1d\"},{\"attributes\":{\"fill_color\":{\"value\":\"green\"},\"line_color\":{\"value\":\"green\"},\"size\":{\"units\":\"screen\",\"value\":12},\"x\":{\"field\":\"x\"},\"y\":{\"field\":\"y\"}},\"id\":\"b2499057-4d7c-4984-9cf7-91d92f10cdd9\",\"type\":\"Asterisk\"},{\"attributes\":{\"fill_alpha\":{\"value\":0.1},\"fill_color\":{\"value\":\"#1f77b4\"},\"line_alpha\":{\"value\":0.1},\"line_color\":{\"value\":\"#1f77b4\"},\"size\":{\"units\":\"screen\",\"value\":8},\"x\":{\"field\":\"x\"},\"y\":{\"field\":\"y\"}},\"id\":\"f14fc0bf-79d1-4757-b6c8-bf970fd39454\",\"type\":\"Circle\"},{\"attributes\":{\"source\":{\"id\":\"2b234f34-7ac2-48c3-93ed-db51f79ac073\",\"type\":\"ColumnDataSource\"}},\"id\":\"54efab0a-716e-42cf-8131-5ecedf98b5d9\",\"type\":\"CDSView\"},{\"attributes\":{},\"id\":\"c80fb0a8-fad8-4613-80fe-2b7671a7f30c\",\"type\":\"LinearScale\"},{\"attributes\":{\"data_source\":{\"id\":\"2b234f34-7ac2-48c3-93ed-db51f79ac073\",\"type\":\"ColumnDataSource\"},\"glyph\":{\"id\":\"b2499057-4d7c-4984-9cf7-91d92f10cdd9\",\"type\":\"Asterisk\"},\"hover_glyph\":null,\"muted_glyph\":null,\"nonselection_glyph\":{\"id\":\"d94c5b03-7487-48fe-ae02-4de8ee26c5f4\",\"type\":\"Asterisk\"},\"selection_glyph\":null,\"view\":{\"id\":\"54efab0a-716e-42cf-8131-5ecedf98b5d9\",\"type\":\"CDSView\"}},\"id\":\"05e352d7-986e-49c8-a9e7-47179ffb76f6\",\"type\":\"GlyphRenderer\"},{\"attributes\":{\"callback\":null},\"id\":\"8f2ebe8d-6a08-4878-a689-f6134f495428\",\"type\":\"DataRange1d\"},{\"attributes\":{\"line_alpha\":0.1,\"line_color\":\"#1f77b4\",\"line_width\":2,\"x\":{\"field\":\"x\"},\"y\":{\"field\":\"y\"}},\"id\":\"5ab27847-125c-4f6e-ad1b-680d828f8e0a\",\"type\":\"Line\"},{\"attributes\":{},\"id\":\"1719cc59-f768-4e58-92b2-57e5aea61a78\",\"type\":\"LinearScale\"},{\"attributes\":{},\"id\":\"59ef4995-fff9-4bd7-997e-39cf761c5807\",\"type\":\"Selection\"},{\"attributes\":{\"plot\":{\"id\":\"5a7c5d86-bacf-4bdc-a369-44402ba12239\",\"subtype\":\"Figure\",\"type\":\"Plot\"},\"ticker\":{\"id\":\"7ef8b049-a801-4c34-bfb1-549b707d1086\",\"type\":\"BasicTicker\"}},\"id\":\"d2e619e1-2abe-4a51-ae96-8cc86d873063\",\"type\":\"Grid\"},{\"attributes\":{\"line_width\":2,\"x\":{\"field\":\"x\"},\"y\":{\"field\":\"y\"}},\"id\":\"f55d78ad-a514-444a-9c19-cda58131e2a5\",\"type\":\"Line\"},{\"attributes\":{\"axis_label\":\"x\",\"formatter\":{\"id\":\"21d48797-0e8d-4322-b98a-5614fe0c8670\",\"type\":\"BasicTickFormatter\"},\"plot\":{\"id\":\"5a7c5d86-bacf-4bdc-a369-44402ba12239\",\"subtype\":\"Figure\",\"type\":\"Plot\"},\"ticker\":{\"id\":\"7ef8b049-a801-4c34-bfb1-549b707d1086\",\"type\":\"BasicTicker\"}},\"id\":\"b0fc7202-415f-431d-b059-6d3b3b5efb03\",\"type\":\"LinearAxis\"},{\"attributes\":{\"label\":{\"value\":\"Central\"},\"renderers\":[{\"id\":\"05e352d7-986e-49c8-a9e7-47179ffb76f6\",\"type\":\"GlyphRenderer\"}]},\"id\":\"f5f402a7-1b93-4f96-aada-6440cb26fb2e\",\"type\":\"LegendItem\"},{\"attributes\":{},\"id\":\"7ef8b049-a801-4c34-bfb1-549b707d1086\",\"type\":\"BasicTicker\"},{\"attributes\":{\"axis_label\":\"d[sin(x)]/dx, cos(x)\",\"formatter\":{\"id\":\"538ca503-c39a-446a-ae13-d2d944c57977\",\"type\":\"BasicTickFormatter\"},\"plot\":{\"id\":\"5a7c5d86-bacf-4bdc-a369-44402ba12239\",\"subtype\":\"Figure\",\"type\":\"Plot\"},\"ticker\":{\"id\":\"f2cf2998-e40e-4f82-be23-a23f6c8870ec\",\"type\":\"BasicTicker\"}},\"id\":\"1a70624d-7461-481a-936b-2adb9afd8f9e\",\"type\":\"LinearAxis\"},{\"attributes\":{},\"id\":\"9c7216e6-ae3e-46b3-9f34-9cbf5c1e602e\",\"type\":\"Selection\"},{\"attributes\":{},\"id\":\"f2cf2998-e40e-4f82-be23-a23f6c8870ec\",\"type\":\"BasicTicker\"},{\"attributes\":{},\"id\":\"84468656-e662-41b4-816e-344d995a7be7\",\"type\":\"Selection\"},{\"attributes\":{\"dimension\":1,\"plot\":{\"id\":\"5a7c5d86-bacf-4bdc-a369-44402ba12239\",\"subtype\":\"Figure\",\"type\":\"Plot\"},\"ticker\":{\"id\":\"f2cf2998-e40e-4f82-be23-a23f6c8870ec\",\"type\":\"BasicTicker\"}},\"id\":\"4184efbc-0a63-4615-b9ea-2a6667bc8287\",\"type\":\"Grid\"},{\"attributes\":{\"label\":{\"value\":\"cos(x)\"},\"renderers\":[{\"id\":\"1d92c02a-27e1-49ab-9402-969b365107f7\",\"type\":\"GlyphRenderer\"}]},\"id\":\"d4989100-38f4-437a-9213-f48ee2ed8fd3\",\"type\":\"LegendItem\"},{\"attributes\":{\"data_source\":{\"id\":\"69f5aff1-92c3-4677-9ae9-269bbad12193\",\"type\":\"ColumnDataSource\"},\"glyph\":{\"id\":\"890437e0-8cb8-4293-b918-14b71cc0e09d\",\"type\":\"Circle\"},\"hover_glyph\":null,\"muted_glyph\":null,\"nonselection_glyph\":{\"id\":\"f14fc0bf-79d1-4757-b6c8-bf970fd39454\",\"type\":\"Circle\"},\"selection_glyph\":null,\"view\":{\"id\":\"b6bf5fbc-0a8a-40f8-acb3-0e95a21fe70a\",\"type\":\"CDSView\"}},\"id\":\"abf510a1-27b2-4110-b153-c08b4e241d3e\",\"type\":\"GlyphRenderer\"},{\"attributes\":{\"callback\":null,\"data\":{\"x\":{\"__ndarray__\":\"AAAAAAAAAADZp3A6A1/IP9mncDoDX9g/433Ua0JH4j/Zp3A6A1/oP8/RDAnEdu4/433Ua0JH8j/ekiLTIlP1P9mncDoDX/g/1Ly+oeNq+z/P0QwJxHb+P2VzLThSwQBA433Ua0JHAkBgiHufMs0DQN6SItMiUwVAW53JBhPZBkDZp3A6A18IQFeyF27z5AlA1Ly+oeNqC0BSx2XV0/AMQM/RDAnEdg5ATdyzPLT8D0Blcy04UsEQQKT4AFJKhBFA433Ua0JHEkAiA6iFOgoTQGCIe58yzRNAnw1PuSqQFEDekiLTIlMVQB0Y9uwaFhZAW53JBhPZFkCaIp0gC5wXQNmncDoDXxhAGC1EVPshGUBXshdu8+QZQJU364frpxpA1Ly+oeNqG0ATQpK72y0cQFLHZdXT8BxAkEw578uzHUDP0QwJxHYeQA5X4CK8OR9ATdyzPLT8H0DGsEMr1l8gQGVzLThSwSBABTYXRc4iIUCk+ABSSoQhQEO76l7G5SFA433Ua0JHIkCCQL54vqgiQCIDqIU6CiNAwcWRkrZrI0BgiHufMs0jQABLZayuLiRAnw1PuSqQJEA+0DjGpvEkQN6SItMiUyVAfVUM4J60JUAdGPbsGhYmQLza3/mWdyZAW53JBhPZJkD7X7MTjzonQJoinSALnCdAOuWGLYf9J0DZp3A6A18oQHhqWkd/wChAGC1EVPshKUC37y1hd4MpQFeyF27z5ClA9nQBe29GKkCVN+uH66cqQDX61JRnCStA1Ly+oeNqK0B0f6iuX8wrQBNCkrvbLSxAsgR8yFePLEBSx2XV0/AsQPGJT+JPUi1AkEw578uzLUAwDyP8RxUuQM/RDAnEdi5Ab5T2FUDYLkAOV+AivDkvQK0Zyi84my9ATdyzPLT8L0B2z84kGC8wQMawQyvWXzBAFZK4MZSQMEBlcy04UsEwQLVUoj4Q8jBABTYXRc4iMUBUF4xLjFMxQKT4AFJKhDFA9Nl1WAi1MUBDu+pexuUxQJOcX2WEFjJA433Ua0JHMkAyX0lyAHgyQIJAvni+qDJA0iEzf3zZMkA=\",\"dtype\":\"float64\",\"shape\":[100]},\"y\":{\"__ndarray__\":\"Nadk9ZfO7z81p2T1l87vPx8B7I1MqO4/YxJYtVhm7D/CIinunx3pP+BDIwGF7OQ/3LwZsKHz3z+d869El+bUP4PBJfBUMMI/ftqenD1TqL+/4NRYryHOv2Zk+y7ii9q//fTm3aaI4r/zyLa34B/nv7Ukjtsk4eq/IpMyKrWp7b+sPXuj0F/vv9q8GbCh8++/sD17o9Bf778hkzIqtantv7wkjtsk4eq/7si2t+Af57//9Obdpojiv3Jk+y7ii9q/yuDUWK8hzr/K2p6cPVOov2vBJfBUMMI/lvOvRJfm1D/MvBmwofPfP+RDIwGF7OQ/wCIp7p8d6T9hEli1WGbsPxsB7I1MqO4/Nadk9ZfO7z81p2T1l87vPyEB7I1MqO4/ZxJYtVhm7D/EIinunx3pP95DIwGF7OQ/67wZsKHz3z+r869El+bUP5LBJfBUMMI/dtqenD1TqL+14NRYryHOv2Bk+y7ii9q///Tm3aaI4r/tyLa34B/nv7Mkjtsk4eq/H5MyKrWp7b+uPXuj0F/vv9q8GbCh8++/rj17o9Bf778mkzIqtantv7wkjtsk4eq/8si2t+Af578G9ebdpojiv4Rk+y7ii9q/3ODUWK8hzr/+2p6cPVOov2vBJfBUMMI/iPOvRJfm1D/MvBmwofPfP9pDIwGF7OQ/vSIp7p8d6T9iEli1WGbsPxoB7I1MqO4/NKdk9ZfO7z82p2T1l87vPyAB7I1MqO4/ZxJYtVhm7D/LIinunx3pP+JDIwGF7OQ/67wZsKHz3z+l869El+bUP5XBJfBUMMI/QtqenD1TqL+N4NRYryHOv2Bk+y7ii9q/9vTm3aaI4r/lyLa34B/nv7Mkjtsk4eq/H5MyKrWp7b+rPXuj0F/vv9y8GbCh8++/sD17o9Bf778mkzIqtantv7wkjtsk4eq/+si2t+Af578P9ebdpojiv4Rk+y7ii9q/zODUWK8hzr8q256cPVOovzvBJfBUMMI/kPOvRJfm1D/MvBmwofPfP9NDIwGF7OQ/uCIp7p8d6T9jEli1WGbsPxgB7I1MqO4/NKdk9ZfO7z8=\",\"dtype\":\"float64\",\"shape\":[100]}},\"selected\":{\"id\":\"59ef4995-fff9-4bd7-997e-39cf761c5807\",\"type\":\"Selection\"},\"selection_policy\":{\"id\":\"c9a552fe-b390-4e64-9ad8-074fc492c371\",\"type\":\"UnionRenderers\"}},\"id\":\"5aa25f33-9632-4496-9297-e5bce843c62d\",\"type\":\"ColumnDataSource\"},{\"attributes\":{\"bottom_units\":\"screen\",\"fill_alpha\":{\"value\":0.5},\"fill_color\":{\"value\":\"lightgrey\"},\"left_units\":\"screen\",\"level\":\"overlay\",\"line_alpha\":{\"value\":1.0},\"line_color\":{\"value\":\"black\"},\"line_dash\":[4,4],\"line_width\":{\"value\":2},\"plot\":null,\"render_mode\":\"css\",\"right_units\":\"screen\",\"top_units\":\"screen\"},\"id\":\"49829810-7f69-4edd-9af1-07d4725414c0\",\"type\":\"BoxAnnotation\"},{\"attributes\":{},\"id\":\"8e6e3d27-5035-45f3-8ed2-81a331324b01\",\"type\":\"PanTool\"},{\"attributes\":{},\"id\":\"538ca503-c39a-446a-ae13-d2d944c57977\",\"type\":\"BasicTickFormatter\"},{\"attributes\":{},\"id\":\"fdbd9738-3925-4d79-8b95-c13e40f44c9e\",\"type\":\"WheelZoomTool\"},{\"attributes\":{},\"id\":\"be58afc4-3557-4a9b-9325-2d05fb12b0d4\",\"type\":\"UnionRenderers\"},{\"attributes\":{\"overlay\":{\"id\":\"49829810-7f69-4edd-9af1-07d4725414c0\",\"type\":\"BoxAnnotation\"}},\"id\":\"3132c760-cbae-4272-a480-a40c2aefd938\",\"type\":\"BoxZoomTool\"},{\"attributes\":{\"callback\":null,\"data\":{\"x\":{\"__ndarray__\":\"AAAAAAAAAADZp3A6A1/IP9mncDoDX9g/433Ua0JH4j/Zp3A6A1/oP8/RDAnEdu4/433Ua0JH8j/ekiLTIlP1P9mncDoDX/g/1Ly+oeNq+z/P0QwJxHb+P2VzLThSwQBA433Ua0JHAkBgiHufMs0DQN6SItMiUwVAW53JBhPZBkDZp3A6A18IQFeyF27z5AlA1Ly+oeNqC0BSx2XV0/AMQM/RDAnEdg5ATdyzPLT8D0Blcy04UsEQQKT4AFJKhBFA433Ua0JHEkAiA6iFOgoTQGCIe58yzRNAnw1PuSqQFEDekiLTIlMVQB0Y9uwaFhZAW53JBhPZFkCaIp0gC5wXQNmncDoDXxhAGC1EVPshGUBXshdu8+QZQJU364frpxpA1Ly+oeNqG0ATQpK72y0cQFLHZdXT8BxAkEw578uzHUDP0QwJxHYeQA5X4CK8OR9ATdyzPLT8H0DGsEMr1l8gQGVzLThSwSBABTYXRc4iIUCk+ABSSoQhQEO76l7G5SFA433Ua0JHIkCCQL54vqgiQCIDqIU6CiNAwcWRkrZrI0BgiHufMs0jQABLZayuLiRAnw1PuSqQJEA+0DjGpvEkQN6SItMiUyVAfVUM4J60JUAdGPbsGhYmQLza3/mWdyZAW53JBhPZJkD7X7MTjzonQJoinSALnCdAOuWGLYf9J0DZp3A6A18oQHhqWkd/wChAGC1EVPshKUC37y1hd4MpQFeyF27z5ClA9nQBe29GKkCVN+uH66cqQDX61JRnCStA1Ly+oeNqK0B0f6iuX8wrQBNCkrvbLSxAsgR8yFePLEBSx2XV0/AsQPGJT+JPUi1AkEw578uzLUAwDyP8RxUuQM/RDAnEdi5Ab5T2FUDYLkAOV+AivDkvQK0Zyi84my9ATdyzPLT8L0B2z84kGC8wQMawQyvWXzBAFZK4MZSQMEBlcy04UsEwQLVUoj4Q8jBABTYXRc4iMUBUF4xLjFMxQKT4AFJKhDFA9Nl1WAi1MUBDu+pexuUxQJOcX2WEFjJA433Ua0JHMkAyX0lyAHgyQIJAvni+qDJA0iEzf3zZMkA=\",\"dtype\":\"float64\",\"shape\":[100]},\"y\":{\"__ndarray__\":\"Nadk9ZfO7z8fAeyNTKjuP2MSWLVYZuw/wiIp7p8d6T/gQyMBhezkP9y8GbCh898/nfOvRJfm1D+DwSXwVDDCP37anpw9U6i/v+DUWK8hzr9mZPsu4ovav/305t2miOK/88i2t+Af57+1JI7bJOHqvyKTMiq1qe2/rD17o9Bf77/avBmwofPvv7A9e6PQX++/IZMyKrWp7b+8JI7bJOHqv+7ItrfgH+e///Tm3aaI4r9yZPsu4ovav8rg1FivIc6/ytqenD1TqL9rwSXwVDDCP5bzr0SX5tQ/zLwZsKHz3z/kQyMBhezkP8AiKe6fHek/YRJYtVhm7D8bAeyNTKjuPzWnZPWXzu8/Nadk9ZfO7z8hAeyNTKjuP2cSWLVYZuw/xCIp7p8d6T/eQyMBhezkP+u8GbCh898/q/OvRJfm1D+SwSXwVDDCP3banpw9U6i/teDUWK8hzr9gZPsu4ovav//05t2miOK/7ci2t+Af57+zJI7bJOHqvx+TMiq1qe2/rj17o9Bf77/avBmwofPvv649e6PQX++/JpMyKrWp7b+8JI7bJOHqv/LItrfgH+e/BvXm3aaI4r+EZPsu4ovav9zg1FivIc6//tqenD1TqL9rwSXwVDDCP4jzr0SX5tQ/zLwZsKHz3z/aQyMBhezkP70iKe6fHek/YhJYtVhm7D8aAeyNTKjuPzSnZPWXzu8/Nqdk9ZfO7z8gAeyNTKjuP2cSWLVYZuw/yyIp7p8d6T/iQyMBhezkP+u8GbCh898/pfOvRJfm1D+VwSXwVDDCP0Lanpw9U6i/jeDUWK8hzr9gZPsu4ovav/b05t2miOK/5ci2t+Af57+zJI7bJOHqvx+TMiq1qe2/qz17o9Bf77/cvBmwofPvv7A9e6PQX++/JpMyKrWp7b+8JI7bJOHqv/rItrfgH+e/D/Xm3aaI4r+EZPsu4ovav8zg1FivIc6/KtuenD1TqL87wSXwVDDCP5Dzr0SX5tQ/zLwZsKHz3z/TQyMBhezkP7giKe6fHek/YxJYtVhm7D8YAeyNTKjuPzSnZPWXzu8/NKdk9ZfO7z8=\",\"dtype\":\"float64\",\"shape\":[100]}},\"selected\":{\"id\":\"488b2572-e2ce-4c88-ab52-4c7cb1396e50\",\"type\":\"Selection\"},\"selection_policy\":{\"id\":\"1cff4f07-0921-475e-a31f-8c9459dee6aa\",\"type\":\"UnionRenderers\"}},\"id\":\"69f5aff1-92c3-4677-9ae9-269bbad12193\",\"type\":\"ColumnDataSource\"},{\"attributes\":{},\"id\":\"821ff5f7-5696-42c8-a423-e488701bc713\",\"type\":\"SaveTool\"},{\"attributes\":{},\"id\":\"20aebf33-5874-461f-802b-3dcbe5f9c30e\",\"type\":\"ResetTool\"},{\"attributes\":{},\"id\":\"4e4b9120-53c0-4be8-a004-fcf32dc04d42\",\"type\":\"HelpTool\"},{\"attributes\":{\"fill_alpha\":{\"value\":0.5},\"fill_color\":{\"value\":\"red\"},\"line_alpha\":{\"value\":0.5},\"line_color\":{\"value\":\"red\"},\"size\":{\"units\":\"screen\",\"value\":8},\"x\":{\"field\":\"x\"},\"y\":{\"field\":\"y\"}},\"id\":\"75007fcc-4e40-4f17-aa9f-a7148555e217\",\"type\":\"Circle\"},{\"attributes\":{},\"id\":\"21d48797-0e8d-4322-b98a-5614fe0c8670\",\"type\":\"BasicTickFormatter\"},{\"attributes\":{\"data_source\":{\"id\":\"5aa25f33-9632-4496-9297-e5bce843c62d\",\"type\":\"ColumnDataSource\"},\"glyph\":{\"id\":\"75007fcc-4e40-4f17-aa9f-a7148555e217\",\"type\":\"Circle\"},\"hover_glyph\":null,\"muted_glyph\":null,\"nonselection_glyph\":{\"id\":\"49fc5a39-1773-4a19-abc4-718ae72befd3\",\"type\":\"Circle\"},\"selection_glyph\":null,\"view\":{\"id\":\"d46ec0de-b035-4db0-b1f1-dd1b94521543\",\"type\":\"CDSView\"}},\"id\":\"ceee30c3-a4b9-4c70-a5c6-9d6a1dabee1b\",\"type\":\"GlyphRenderer\"},{\"attributes\":{\"label\":{\"value\":\"Forward\"},\"renderers\":[{\"id\":\"abf510a1-27b2-4110-b153-c08b4e241d3e\",\"type\":\"GlyphRenderer\"}]},\"id\":\"85e27fe3-c95b-4ef1-877e-f1b8176fac44\",\"type\":\"LegendItem\"},{\"attributes\":{\"fill_alpha\":{\"value\":0.1},\"fill_color\":{\"value\":\"#1f77b4\"},\"line_alpha\":{\"value\":0.1},\"line_color\":{\"value\":\"#1f77b4\"},\"size\":{\"units\":\"screen\",\"value\":8},\"x\":{\"field\":\"x\"},\"y\":{\"field\":\"y\"}},\"id\":\"49fc5a39-1773-4a19-abc4-718ae72befd3\",\"type\":\"Circle\"},{\"attributes\":{\"callback\":null,\"data\":{\"x\":{\"__ndarray__\":\"AAAAAAAAAADZp3A6A1/IP9mncDoDX9g/433Ua0JH4j/Zp3A6A1/oP8/RDAnEdu4/433Ua0JH8j/ekiLTIlP1P9mncDoDX/g/1Ly+oeNq+z/P0QwJxHb+P2VzLThSwQBA433Ua0JHAkBgiHufMs0DQN6SItMiUwVAW53JBhPZBkDZp3A6A18IQFeyF27z5AlA1Ly+oeNqC0BSx2XV0/AMQM/RDAnEdg5ATdyzPLT8D0Blcy04UsEQQKT4AFJKhBFA433Ua0JHEkAiA6iFOgoTQGCIe58yzRNAnw1PuSqQFEDekiLTIlMVQB0Y9uwaFhZAW53JBhPZFkCaIp0gC5wXQNmncDoDXxhAGC1EVPshGUBXshdu8+QZQJU364frpxpA1Ly+oeNqG0ATQpK72y0cQFLHZdXT8BxAkEw578uzHUDP0QwJxHYeQA5X4CK8OR9ATdyzPLT8H0DGsEMr1l8gQGVzLThSwSBABTYXRc4iIUCk+ABSSoQhQEO76l7G5SFA433Ua0JHIkCCQL54vqgiQCIDqIU6CiNAwcWRkrZrI0BgiHufMs0jQABLZayuLiRAnw1PuSqQJEA+0DjGpvEkQN6SItMiUyVAfVUM4J60JUAdGPbsGhYmQLza3/mWdyZAW53JBhPZJkD7X7MTjzonQJoinSALnCdAOuWGLYf9J0DZp3A6A18oQHhqWkd/wChAGC1EVPshKUC37y1hd4MpQFeyF27z5ClA9nQBe29GKkCVN+uH66cqQDX61JRnCStA1Ly+oeNqK0B0f6iuX8wrQBNCkrvbLSxAsgR8yFePLEBSx2XV0/AsQPGJT+JPUi1AkEw578uzLUAwDyP8RxUuQM/RDAnEdi5Ab5T2FUDYLkAOV+AivDkvQK0Zyi84my9ATdyzPLT8L0B2z84kGC8wQMawQyvWXzBAFZK4MZSQMEBlcy04UsEwQLVUoj4Q8jBABTYXRc4iMUBUF4xLjFMxQKT4AFJKhDFA9Nl1WAi1MUBDu+pexuUxQJOcX2WEFjJA433Ua0JHMkAyX0lyAHgyQIJAvni+qDJA0iEzf3zZMkA=\",\"dtype\":\"float64\",\"shape\":[100]},\"y\":{\"__ndarray__\":\"Nadk9ZfO7z8qVKhBcjvvP8AJoqFSh+0/k5rAUfzB6j9RM6Z3EgXnPycRmOwqc+I/Pdhkehxt2j9f1MK8wf7NP8gV/BELN6g/r0v+Xz8bwr9j6rLtXM7UvzGnZPWXzt+/997OykPU5L/UdqLJggDpv+tb4AJtRey/Z+jW5sKE7r9Dfcopuanvv0V9yim5qe+/aejW5sKE7r/vW+ACbUXsv9R2osmCAOm/997OykPU5L82p2T1l87fv2vqsu1cztS/vkv+Xz8bwr9RFfwRCzeoP1TUwrzB/s0/Mdhkehxt2j8lEZjsKnPiP1EzpncSBec/kprAUfzB6j++CaKhUoftPylUqEFyO+8/Nadk9ZfO7z8rVKhBcjvvP8MJoqFSh+0/lZrAUfzB6j9RM6Z3EgXnPywRmOwqc+I/SNhkehxt2j901MK8wf7NP+oV/BELN6g/qUv+Xz8bwr9a6rLtXM7UvzanZPWXzt+/897OykPU5L/QdqLJggDpv+tb4AJtRey/ZejW5sKE7r9Efcopuanvv0R9yim5qe+/aujW5sKE7r/vW+ACbUXsv9l2osmCAOm//N7OykPU5L9Bp2T1l87fv4Dqsu1cztS/vkv+Xz8bwr8YFfwRCzeoPz3UwrzB/s0/Mdhkehxt2j8dEZjsKnPiP08zpncSBec/jprAUfzB6j++CaKhUoftPydUqEFyO+8/Nadk9ZfO7z8qVKhBcjvvP8UJoqFSh+0/mZrAUfzB6j9UM6Z3EgXnPy8RmOwqc+I/Qdhkehxt2j9/1MK8wf7NPwkW/BELN6g/n0v+Xz8bwr9M6rLtXM7UvyanZPWXzt+/8N7OykPU5L/KdqLJggDpv+tb4AJtRey/ZOjW5sKE7r9Dfcopuanvv0V9yim5qe+/bOjW5sKE7r/vW+ACbUXsv+B2osmCAOm//97OykPU5L9Rp2T1l87fv3Xqsu1cztS/60v+Xz8bwr9hFfwRCzeoPy7UwrzB/s0/H9hkehxt2j8jEZjsKnPiP0UzpncSBec/iZrAUfzB6j/ACaKhUoftPyZUqEFyO+8/NKdk9ZfO7z8=\",\"dtype\":\"float64\",\"shape\":[100]}},\"selected\":{\"id\":\"84468656-e662-41b4-816e-344d995a7be7\",\"type\":\"Selection\"},\"selection_policy\":{\"id\":\"d9fb62e2-cbce-4f5b-a836-4fcfbf152f1a\",\"type\":\"UnionRenderers\"}},\"id\":\"2b234f34-7ac2-48c3-93ed-db51f79ac073\",\"type\":\"ColumnDataSource\"}],\"root_ids\":[\"5a7c5d86-bacf-4bdc-a369-44402ba12239\"]},\"title\":\"Bokeh Application\",\"version\":\"0.12.16\"}};\n",
       "  var render_items = [{\"docid\":\"7dd29b20-c740-40a4-b27c-a581d5b93489\",\"elementid\":\"bbf1a922-8fe3-4984-93ea-c9346e9463ff\",\"modelid\":\"5a7c5d86-bacf-4bdc-a369-44402ba12239\"}];\n",
       "  root.Bokeh.embed.embed_items_notebook(docs_json, render_items);\n",
       "\n",
       "  }\n",
       "  if (root.Bokeh !== undefined) {\n",
       "    embed_document(root);\n",
       "  } else {\n",
       "    var attempts = 0;\n",
       "    var timer = setInterval(function(root) {\n",
       "      if (root.Bokeh !== undefined) {\n",
       "        embed_document(root);\n",
       "        clearInterval(timer);\n",
       "      }\n",
       "      attempts++;\n",
       "      if (attempts > 100) {\n",
       "        console.log(\"Bokeh: ERROR: Unable to run BokehJS code because BokehJS library is missing\")\n",
       "        clearInterval(timer);\n",
       "      }\n",
       "    }, 10, root)\n",
       "  }\n",
       "})(window);"
      ],
      "application/vnd.bokehjs_exec.v0+json": ""
     },
     "metadata": {
      "application/vnd.bokehjs_exec.v0+json": {
       "id": "5a7c5d86-bacf-4bdc-a369-44402ba12239"
      }
     },
     "output_type": "display_data"
    }
   ],
   "source": [
    "# look at different approximations [array slicing]\n",
    "\n",
    "dydxF = zeros(N)\n",
    "dydxB = zeros(N)\n",
    "dydxC = zeros(N)\n",
    "\n",
    "# Forward Difference\n",
    "dydxF[:-1] = (y[1:]-y[:-1])/(x[1:]-x[:-1])\n",
    "dydxF[ilast] = (y[ilast]-y[ilast-1])/(x[ilast]-x[ilast-1])\n",
    "\n",
    "# Backward Difference\n",
    "dydxB[1:] = (y[1:]-y[:-1])/(x[1:]-x[:-1])\n",
    "dydxB[0] = (y[1]-y[0])/(x[1]-x[0])\n",
    "\n",
    "# Central Difference\n",
    "dydxC[1:-1] = (y[2:]-y[:-2])/(x[2:]-x[:-2])\n",
    "dydxC[0] = (y[1]-y[0])/(x[1]-x[0])\n",
    "dydxC[ilast] = (y[ilast]-y[ilast-1])/(x[ilast]-x[ilast-1])\n",
    "\n",
    "# plot the results\n",
    "p = figure(plot_width=800, plot_height=400, title=None)\n",
    "p.circle(x, dydxF,color=\"blue\", alpha=0.5, size=8, legend=\"Forward\")\n",
    "p.circle(x, dydxB, color=\"red\", alpha=0.5, size=8, legend=\"Backward\")\n",
    "p.asterisk(x, dydxC, color=\"green\", alpha=1, size=12, legend=\"Central\")\n",
    "p.line(x, cos(x), line_width=2, color=\"black\", legend=\"cos(x)\")\n",
    "p.xaxis.axis_label = 'x'\n",
    "p.yaxis.axis_label = 'd[sin(x)]/dx, cos(x)'\n",
    "show(p) "
   ]
  },
  {
   "cell_type": "code",
   "execution_count": null,
   "metadata": {},
   "outputs": [],
   "source": []
  }
 ],
 "metadata": {
  "anaconda-cloud": {},
  "kernelspec": {
   "display_name": "Python 3",
   "language": "python",
   "name": "python3"
  },
  "language_info": {
   "codemirror_mode": {
    "name": "ipython",
    "version": 3
   },
   "file_extension": ".py",
   "mimetype": "text/x-python",
   "name": "python",
   "nbconvert_exporter": "python",
   "pygments_lexer": "ipython3",
   "version": "3.6.5"
  }
 },
 "nbformat": 4,
 "nbformat_minor": 2
}
